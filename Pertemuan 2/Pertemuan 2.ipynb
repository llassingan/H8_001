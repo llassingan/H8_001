{
 "cells": [
  {
   "cell_type": "code",
   "execution_count": 113,
   "id": "7920c2ec",
   "metadata": {},
   "outputs": [
    {
     "name": "stdout",
     "output_type": "stream",
     "text": [
      "     *\n",
      "    **\n",
      "   ***\n",
      "  ****\n",
      " *****\n"
     ]
    }
   ],
   "source": [
    "stars = 5\n",
    "for i in range(stars):\n",
    "    x=\" \"\n",
    "    for j in range(stars):\n",
    "        if j>=stars-(i+1):\n",
    "            x=x+\"*\"\n",
    "        else:\n",
    "            x=x+\" \"\n",
    "    print(x)"
   ]
  },
  {
   "cell_type": "code",
   "execution_count": 127,
   "id": "c1b222c8",
   "metadata": {},
   "outputs": [
    {
     "name": "stdout",
     "output_type": "stream",
     "text": [
      "    *\n",
      "   **\n",
      "  ***\n",
      " ****\n",
      "*****\n"
     ]
    }
   ],
   "source": [
    "stars = 5\n",
    "for i in range(stars):\n",
    "    x=\"     \"\n",
    "    y=\"*****\"\n",
    "    z=x[stars-(stars-(i+1)):]+y[:stars-(stars-(i+1))]\n",
    "    print(z)"
   ]
  },
  {
   "cell_type": "code",
   "execution_count": 124,
   "id": "4ed8cb09",
   "metadata": {},
   "outputs": [
    {
     "name": "stdout",
     "output_type": "stream",
     "text": [
      "    *\n",
      "   **\n",
      "  ***\n",
      " ****\n",
      "*****\n"
     ]
    }
   ],
   "source": [
    "star = 5\n",
    "for i in range(star):\n",
    "    x=\" \"*(star-i-1)\n",
    "    x+=\"*\"*(i+1)\n",
    "    print(x)"
   ]
  },
  {
   "cell_type": "markdown",
   "id": "81a210f9",
   "metadata": {},
   "source": [
    "#### nomor 2 gaib"
   ]
  }
 ],
 "metadata": {
  "kernelspec": {
   "display_name": "Python 3",
   "language": "python",
   "name": "python3"
  },
  "language_info": {
   "codemirror_mode": {
    "name": "ipython",
    "version": 3
   },
   "file_extension": ".py",
   "mimetype": "text/x-python",
   "name": "python",
   "nbconvert_exporter": "python",
   "pygments_lexer": "ipython3",
   "version": "3.8.11"
  }
 },
 "nbformat": 4,
 "nbformat_minor": 5
}
