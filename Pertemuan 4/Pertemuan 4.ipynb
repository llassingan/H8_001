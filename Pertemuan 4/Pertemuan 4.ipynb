{
 "cells": [
  {
   "cell_type": "markdown",
   "id": "dc4fae17",
   "metadata": {},
   "source": [
    " ## Pertemuan 4"
   ]
  },
  {
   "cell_type": "code",
   "execution_count": 1,
   "id": "0fc5d64f",
   "metadata": {},
   "outputs": [],
   "source": [
    "import numpy as np"
   ]
  },
  {
   "cell_type": "code",
   "execution_count": 2,
   "id": "1a165ba3",
   "metadata": {},
   "outputs": [
    {
     "data": {
      "text/plain": [
       "<module 'numpy' from 'C:\\\\Users\\\\Octaffia\\\\anaconda3\\\\envs\\\\hacktiv8\\\\lib\\\\site-packages\\\\numpy\\\\__init__.py'>"
      ]
     },
     "execution_count": 2,
     "metadata": {},
     "output_type": "execute_result"
    }
   ],
   "source": [
    "np"
   ]
  },
  {
   "cell_type": "code",
   "execution_count": 3,
   "id": "9bba8ea6",
   "metadata": {},
   "outputs": [
    {
     "data": {
      "text/plain": [
       "[[1, 2, 3], [4, 5, 6]]"
      ]
     },
     "execution_count": 3,
     "metadata": {},
     "output_type": "execute_result"
    }
   ],
   "source": [
    "[\n",
    "    [1,2,3],\n",
    "    [4,5,6]\n",
    "]\n",
    "# this is a 2x3 matrix\n",
    "# yg ke bawah row, ke samping kolom"
   ]
  },
  {
   "cell_type": "markdown",
   "id": "b6b7a939",
   "metadata": {},
   "source": [
    "di numpy istilahnya namanya axes, jika:\n",
    "axes = 0 -> baris\n",
    "axes = 1 -> kolom"
   ]
  },
  {
   "cell_type": "markdown",
   "id": "0dd704dd",
   "metadata": {},
   "source": [
    "### membuat array"
   ]
  },
  {
   "cell_type": "code",
   "execution_count": 10,
   "id": "e3d906fe",
   "metadata": {},
   "outputs": [
    {
     "data": {
      "text/plain": [
       "[1, 2, 3]"
      ]
     },
     "execution_count": 10,
     "metadata": {},
     "output_type": "execute_result"
    }
   ],
   "source": [
    "x = [1,2,3]\n",
    "x"
   ]
  },
  {
   "cell_type": "code",
   "execution_count": 8,
   "id": "b494f6cc",
   "metadata": {},
   "outputs": [],
   "source": [
    "x_np = np.array(x)"
   ]
  },
  {
   "cell_type": "code",
   "execution_count": 9,
   "id": "9e74d42a",
   "metadata": {},
   "outputs": [
    {
     "data": {
      "text/plain": [
       "array([1, 2, 3])"
      ]
     },
     "execution_count": 9,
     "metadata": {},
     "output_type": "execute_result"
    }
   ],
   "source": [
    "x_np"
   ]
  },
  {
   "cell_type": "code",
   "execution_count": 11,
   "id": "a760e0ce",
   "metadata": {},
   "outputs": [],
   "source": [
    "z = np.zeros(6)"
   ]
  },
  {
   "cell_type": "code",
   "execution_count": 12,
   "id": "d24dcabb",
   "metadata": {},
   "outputs": [
    {
     "data": {
      "text/plain": [
       "array([0., 0., 0., 0., 0., 0.])"
      ]
     },
     "execution_count": 12,
     "metadata": {},
     "output_type": "execute_result"
    }
   ],
   "source": [
    "z"
   ]
  },
  {
   "cell_type": "code",
   "execution_count": 14,
   "id": "39fecbb5",
   "metadata": {},
   "outputs": [
    {
     "data": {
      "text/plain": [
       "array([1., 1., 1., 1., 1., 1.])"
      ]
     },
     "execution_count": 14,
     "metadata": {},
     "output_type": "execute_result"
    }
   ],
   "source": [
    "y = np.ones(6)\n",
    "y"
   ]
  },
  {
   "cell_type": "code",
   "execution_count": 15,
   "id": "96082313",
   "metadata": {},
   "outputs": [
    {
     "data": {
      "text/plain": [
       "array([1., 1., 1., 1., 1., 1.])"
      ]
     },
     "execution_count": 15,
     "metadata": {},
     "output_type": "execute_result"
    }
   ],
   "source": [
    "emptyarr = np.empty(6)\n",
    "emptyarr"
   ]
  },
  {
   "cell_type": "code",
   "execution_count": 17,
   "id": "727db32a",
   "metadata": {},
   "outputs": [
    {
     "data": {
      "text/plain": [
       "array([0, 1, 2, 3, 4])"
      ]
     },
     "execution_count": 17,
     "metadata": {},
     "output_type": "execute_result"
    }
   ],
   "source": [
    "arr = np.arange(5)\n",
    "arr"
   ]
  },
  {
   "cell_type": "code",
   "execution_count": 18,
   "id": "674eee44",
   "metadata": {},
   "outputs": [
    {
     "data": {
      "text/plain": [
       "array([2, 5, 8])"
      ]
     },
     "execution_count": 18,
     "metadata": {},
     "output_type": "execute_result"
    }
   ],
   "source": [
    "arr = np.arange(2,10,3)\n",
    "arr"
   ]
  },
  {
   "cell_type": "code",
   "execution_count": 19,
   "id": "5824134b",
   "metadata": {},
   "outputs": [
    {
     "name": "stdout",
     "output_type": "stream",
     "text": [
      "-10\n",
      "-8\n",
      "-6\n",
      "-4\n",
      "-2\n",
      "0\n",
      "2\n",
      "4\n",
      "6\n",
      "8\n",
      "10\n"
     ]
    }
   ],
   "source": [
    "for i in np.arange(-10,12,2):\n",
    "    print(i)"
   ]
  },
  {
   "cell_type": "markdown",
   "id": "e07b10b4",
   "metadata": {},
   "source": [
    "### ADD, REMOVE, SORT"
   ]
  },
  {
   "cell_type": "code",
   "execution_count": 20,
   "id": "eae8c2ca",
   "metadata": {},
   "outputs": [],
   "source": [
    "arr1 = np.array([1,2,3,4,5])"
   ]
  },
  {
   "cell_type": "code",
   "execution_count": 22,
   "id": "60f0b12e",
   "metadata": {},
   "outputs": [
    {
     "data": {
      "text/plain": [
       "array([1, 2, 3, 4, 5, 6])"
      ]
     },
     "execution_count": 22,
     "metadata": {},
     "output_type": "execute_result"
    }
   ],
   "source": [
    "#add\n",
    "np.append(arr1,6)"
   ]
  },
  {
   "cell_type": "code",
   "execution_count": 23,
   "id": "9e571040",
   "metadata": {},
   "outputs": [
    {
     "data": {
      "text/plain": [
       "array([1, 2, 3, 4])"
      ]
     },
     "execution_count": 23,
     "metadata": {},
     "output_type": "execute_result"
    }
   ],
   "source": [
    "# bisa untuk memerge array\n",
    "xxx = np.array([1,2])\n",
    "yyy = np.array([3,4])\n",
    "np.append(xxx,yyy)"
   ]
  },
  {
   "cell_type": "code",
   "execution_count": 24,
   "id": "cb5dcacf",
   "metadata": {},
   "outputs": [
    {
     "data": {
      "text/plain": [
       "array([1, 3, 4, 5])"
      ]
     },
     "execution_count": 24,
     "metadata": {},
     "output_type": "execute_result"
    }
   ],
   "source": [
    "# delete \n",
    "np.delete(arr1,1)\n",
    "# di hapus berdasar index"
   ]
  },
  {
   "cell_type": "code",
   "execution_count": 25,
   "id": "2058131d",
   "metadata": {},
   "outputs": [],
   "source": [
    "arr2 = np.array([3,6,1,8,0,2,7,4])"
   ]
  },
  {
   "cell_type": "code",
   "execution_count": 26,
   "id": "2443c128",
   "metadata": {},
   "outputs": [
    {
     "data": {
      "text/plain": [
       "array([0, 1, 2, 3, 4, 6, 7, 8])"
      ]
     },
     "execution_count": 26,
     "metadata": {},
     "output_type": "execute_result"
    }
   ],
   "source": [
    "np.sort(arr2)"
   ]
  },
  {
   "cell_type": "markdown",
   "id": "a450d55d",
   "metadata": {},
   "source": [
    "### Shape and Size"
   ]
  },
  {
   "cell_type": "code",
   "execution_count": 27,
   "id": "3e23834c",
   "metadata": {},
   "outputs": [
    {
     "data": {
      "text/plain": [
       "array([3, 6, 1, 8, 0, 2, 7, 4])"
      ]
     },
     "execution_count": 27,
     "metadata": {},
     "output_type": "execute_result"
    }
   ],
   "source": [
    "arr2"
   ]
  },
  {
   "cell_type": "code",
   "execution_count": 28,
   "id": "3dbd4476",
   "metadata": {},
   "outputs": [
    {
     "data": {
      "text/plain": [
       "(8,)"
      ]
     },
     "execution_count": 28,
     "metadata": {},
     "output_type": "execute_result"
    }
   ],
   "source": [
    "arr2.shape"
   ]
  },
  {
   "cell_type": "code",
   "execution_count": 41,
   "id": "173d68dc",
   "metadata": {},
   "outputs": [],
   "source": [
    "new = [\n",
    "    [[1,2,3]],\n",
    "[[4,5,6]]\n",
    "]\n",
    "x = np.array(new)"
   ]
  },
  {
   "cell_type": "code",
   "execution_count": 42,
   "id": "af6f9b88",
   "metadata": {},
   "outputs": [
    {
     "data": {
      "text/plain": [
       "(2, 1, 3)"
      ]
     },
     "execution_count": 42,
     "metadata": {},
     "output_type": "execute_result"
    }
   ],
   "source": [
    "x.shape #shape atribut"
   ]
  },
  {
   "cell_type": "markdown",
   "id": "0697df08",
   "metadata": {},
   "source": [
    "### RESHAPE"
   ]
  },
  {
   "cell_type": "code",
   "execution_count": 44,
   "id": "a2dd1d78",
   "metadata": {},
   "outputs": [],
   "source": [
    "misal = np.arange(6)"
   ]
  },
  {
   "cell_type": "code",
   "execution_count": 45,
   "id": "26543f7e",
   "metadata": {},
   "outputs": [
    {
     "data": {
      "text/plain": [
       "array([[0, 1, 2],\n",
       "       [3, 4, 5]])"
      ]
     },
     "execution_count": 45,
     "metadata": {},
     "output_type": "execute_result"
    }
   ],
   "source": [
    "np.reshape(misal,(2,3))"
   ]
  },
  {
   "cell_type": "code",
   "execution_count": 50,
   "id": "b1424ee6",
   "metadata": {},
   "outputs": [
    {
     "data": {
      "text/plain": [
       "array([[0, 1, 2],\n",
       "       [3, 4, 5]])"
      ]
     },
     "execution_count": 50,
     "metadata": {},
     "output_type": "execute_result"
    }
   ],
   "source": [
    "# bisa juga langsung\n",
    "misal.reshape((2,3))"
   ]
  },
  {
   "cell_type": "code",
   "execution_count": 51,
   "id": "6c60a5f9",
   "metadata": {},
   "outputs": [
    {
     "data": {
      "text/plain": [
       "6"
      ]
     },
     "execution_count": 51,
     "metadata": {},
     "output_type": "execute_result"
    }
   ],
   "source": [
    "# hasil kali tuple reshape((tup,le)) harus \n",
    "#sama dengan size\n",
    "misal.size\n"
   ]
  },
  {
   "cell_type": "code",
   "execution_count": 54,
   "id": "aeb4fb2d",
   "metadata": {},
   "outputs": [],
   "source": [
    "#contoh penggunaan reshape\n",
    "#dataset untuk train gambar\n",
    "# 100 gambar, 128*128, dengan RGB (3 layer)\n",
    "# jika di reshape maka\n",
    "# 100,3,128,128\n",
    "#jadi yang di reshape :\n",
    "# 100, (128*128*3)"
   ]
  },
  {
   "cell_type": "markdown",
   "id": "a111402f",
   "metadata": {},
   "source": []
  },
  {
   "cell_type": "markdown",
   "id": "4b05757e",
   "metadata": {},
   "source": [
    "### convert 2d ke 3d"
   ]
  },
  {
   "cell_type": "code",
   "execution_count": 55,
   "id": "dbcd69af",
   "metadata": {},
   "outputs": [],
   "source": [
    "misal1 = np.arange(0,6)"
   ]
  },
  {
   "cell_type": "code",
   "execution_count": 56,
   "id": "540b7d21",
   "metadata": {},
   "outputs": [
    {
     "data": {
      "text/plain": [
       "(6,)"
      ]
     },
     "execution_count": 56,
     "metadata": {},
     "output_type": "execute_result"
    }
   ],
   "source": [
    "misal1.shape"
   ]
  },
  {
   "cell_type": "code",
   "execution_count": 59,
   "id": "1dd9e259",
   "metadata": {},
   "outputs": [
    {
     "data": {
      "text/plain": [
       "(1, 6)"
      ]
     },
     "execution_count": 59,
     "metadata": {},
     "output_type": "execute_result"
    }
   ],
   "source": [
    "# bisa aja pake reshape\n",
    "np.reshape(misal1,(1,6)).shape"
   ]
  },
  {
   "cell_type": "code",
   "execution_count": 58,
   "id": "03f3de5d",
   "metadata": {},
   "outputs": [
    {
     "data": {
      "text/plain": [
       "(1, 6)"
      ]
     },
     "execution_count": 58,
     "metadata": {},
     "output_type": "execute_result"
    }
   ],
   "source": [
    "# pake newaxis\n",
    "misal1[np.newaxis].shape\n",
    "# model 1 row 6 col"
   ]
  },
  {
   "cell_type": "code",
   "execution_count": 60,
   "id": "abc71a2e",
   "metadata": {},
   "outputs": [
    {
     "data": {
      "text/plain": [
       "(6, 1)"
      ]
     },
     "execution_count": 60,
     "metadata": {},
     "output_type": "execute_result"
    }
   ],
   "source": [
    "misal1[:,np.newaxis].shape\n",
    "# model 6 row, 1 col"
   ]
  },
  {
   "cell_type": "code",
   "execution_count": 61,
   "id": "f0cb140a",
   "metadata": {},
   "outputs": [],
   "source": [
    "#terminologi\n",
    "\n",
    "# row = jumlah data\n",
    "# column = jumlah feature"
   ]
  },
  {
   "cell_type": "code",
   "execution_count": 62,
   "id": "05a41ac5",
   "metadata": {},
   "outputs": [
    {
     "data": {
      "text/plain": [
       "array([[0],\n",
       "       [1],\n",
       "       [2],\n",
       "       [3],\n",
       "       [4],\n",
       "       [5]])"
      ]
     },
     "execution_count": 62,
     "metadata": {},
     "output_type": "execute_result"
    }
   ],
   "source": [
    "np.expand_dims(misal1,axis=1)"
   ]
  },
  {
   "cell_type": "code",
   "execution_count": 63,
   "id": "55f0fdd4",
   "metadata": {},
   "outputs": [
    {
     "data": {
      "text/plain": [
       "array([[0, 1, 2, 3, 4, 5]])"
      ]
     },
     "execution_count": 63,
     "metadata": {},
     "output_type": "execute_result"
    }
   ],
   "source": [
    "np.expand_dims(misal1,axis=0)"
   ]
  },
  {
   "cell_type": "code",
   "execution_count": 66,
   "id": "1d8e8ac5",
   "metadata": {},
   "outputs": [],
   "source": [
    "sample = np.array([1,2,3,4]).reshape((2,2))"
   ]
  },
  {
   "cell_type": "code",
   "execution_count": 67,
   "id": "f1ebee5e",
   "metadata": {},
   "outputs": [
    {
     "data": {
      "text/plain": [
       "(2, 2)"
      ]
     },
     "execution_count": 67,
     "metadata": {},
     "output_type": "execute_result"
    }
   ],
   "source": [
    "sample.shape"
   ]
  },
  {
   "cell_type": "code",
   "execution_count": 68,
   "id": "5bd4fd69",
   "metadata": {},
   "outputs": [
    {
     "data": {
      "text/plain": [
       "(1, 2, 2)"
      ]
     },
     "execution_count": 68,
     "metadata": {},
     "output_type": "execute_result"
    }
   ],
   "source": [
    "np.expand_dims(sample,axis=0).shape"
   ]
  },
  {
   "cell_type": "markdown",
   "id": "cdc76e17",
   "metadata": {},
   "source": [
    "### indexing dan slicing"
   ]
  },
  {
   "cell_type": "code",
   "execution_count": 69,
   "id": "84cc075e",
   "metadata": {},
   "outputs": [
    {
     "data": {
      "text/plain": [
       "array([1, 2, 3, 4, 5])"
      ]
     },
     "execution_count": 69,
     "metadata": {},
     "output_type": "execute_result"
    }
   ],
   "source": [
    "misal2 = np.array([1,2,3,4,5])\n",
    "misal2"
   ]
  },
  {
   "cell_type": "code",
   "execution_count": 71,
   "id": "87efdffc",
   "metadata": {},
   "outputs": [
    {
     "data": {
      "text/plain": [
       "array([3, 4, 5])"
      ]
     },
     "execution_count": 71,
     "metadata": {},
     "output_type": "execute_result"
    }
   ],
   "source": [
    "misal2[2:]"
   ]
  },
  {
   "cell_type": "code",
   "execution_count": 74,
   "id": "7984b905",
   "metadata": {},
   "outputs": [
    {
     "data": {
      "text/plain": [
       "array([2, 3, 4, 5])"
      ]
     },
     "execution_count": 74,
     "metadata": {},
     "output_type": "execute_result"
    }
   ],
   "source": [
    "misal2[-4:]"
   ]
  },
  {
   "cell_type": "code",
   "execution_count": 75,
   "id": "0aae7c53",
   "metadata": {},
   "outputs": [
    {
     "data": {
      "text/plain": [
       "array([3, 4])"
      ]
     },
     "execution_count": 75,
     "metadata": {},
     "output_type": "execute_result"
    }
   ],
   "source": [
    "misal2[2:4]"
   ]
  },
  {
   "cell_type": "code",
   "execution_count": 76,
   "id": "a10ad564",
   "metadata": {},
   "outputs": [
    {
     "data": {
      "text/plain": [
       "array([1, 2, 3])"
      ]
     },
     "execution_count": 76,
     "metadata": {},
     "output_type": "execute_result"
    }
   ],
   "source": [
    "misal2[:3]"
   ]
  },
  {
   "cell_type": "code",
   "execution_count": 77,
   "id": "ac3689d3",
   "metadata": {},
   "outputs": [],
   "source": [
    "#SLicing 2D ke atas tinggal mainin logic aja"
   ]
  },
  {
   "cell_type": "code",
   "execution_count": 78,
   "id": "513fbd33",
   "metadata": {},
   "outputs": [
    {
     "data": {
      "text/plain": [
       "array([3, 4, 5])"
      ]
     },
     "execution_count": 78,
     "metadata": {},
     "output_type": "execute_result"
    }
   ],
   "source": [
    "# slicing dengan kondisi\n",
    "misal2[misal2>2] #bisa multiple, bisa mod"
   ]
  },
  {
   "cell_type": "code",
   "execution_count": 88,
   "id": "054aa341",
   "metadata": {},
   "outputs": [
    {
     "data": {
      "text/plain": [
       "array([4])"
      ]
     },
     "execution_count": 88,
     "metadata": {},
     "output_type": "execute_result"
    }
   ],
   "source": [
    "# slicing dengan kondisi\n",
    "\n",
    "misal2[(misal2 % 2 == 0)&(misal2 > 2)] #bisa multiple, bisa mod"
   ]
  },
  {
   "cell_type": "code",
   "execution_count": 89,
   "id": "bc7b0f79",
   "metadata": {},
   "outputs": [],
   "source": [
    "misal3 = np.array([1,2,3])\n",
    "misal4 = np.array([4,5,6])\n"
   ]
  },
  {
   "cell_type": "code",
   "execution_count": 91,
   "id": "4d9b7b70",
   "metadata": {},
   "outputs": [
    {
     "data": {
      "text/plain": [
       "array([[1, 2, 3],\n",
       "       [4, 5, 6]])"
      ]
     },
     "execution_count": 91,
     "metadata": {},
     "output_type": "execute_result"
    }
   ],
   "source": [
    "np.vstack((misal3,misal4)) #add 2 array jadi berbentuk sekian dimensi"
   ]
  },
  {
   "cell_type": "code",
   "execution_count": 92,
   "id": "a5ee9726",
   "metadata": {},
   "outputs": [
    {
     "data": {
      "text/plain": [
       "(2, 3)"
      ]
     },
     "execution_count": 92,
     "metadata": {},
     "output_type": "execute_result"
    }
   ],
   "source": [
    "np.vstack((misal3,misal4)).shape #add 2 array jadi berbentuk sekian dimensi"
   ]
  },
  {
   "cell_type": "code",
   "execution_count": 93,
   "id": "4be1195b",
   "metadata": {},
   "outputs": [
    {
     "data": {
      "text/plain": [
       "array([1, 2, 3, 4, 5, 6])"
      ]
     },
     "execution_count": 93,
     "metadata": {},
     "output_type": "execute_result"
    }
   ],
   "source": [
    "np.hstack((misal3,misal4)) #add 2 array jadi berbentuk sekian dimensi"
   ]
  },
  {
   "cell_type": "code",
   "execution_count": 94,
   "id": "8400a4e0",
   "metadata": {},
   "outputs": [
    {
     "data": {
      "text/plain": [
       "[array([1, 2, 3]), array([4, 5, 6])]"
      ]
     },
     "execution_count": 94,
     "metadata": {},
     "output_type": "execute_result"
    }
   ],
   "source": [
    "#hsplit\n",
    "misal5 = np.array([1,2,3,4,5,6])\n",
    "np.hsplit(misal5,2)"
   ]
  },
  {
   "cell_type": "code",
   "execution_count": 95,
   "id": "a0b56c3c",
   "metadata": {},
   "outputs": [],
   "source": [
    "# .view() = pass by variable\n",
    "# .copy() udah gaada hubungan sama yg awal"
   ]
  },
  {
   "cell_type": "markdown",
   "id": "47aeb646",
   "metadata": {},
   "source": [
    "### array operation"
   ]
  },
  {
   "cell_type": "code",
   "execution_count": 97,
   "id": "4959be09",
   "metadata": {},
   "outputs": [],
   "source": [
    "a = np.array([[1,2],[2,3]])\n",
    "b = np.array([[3,1],[2,1]])"
   ]
  },
  {
   "cell_type": "code",
   "execution_count": 98,
   "id": "48f3f65c",
   "metadata": {},
   "outputs": [
    {
     "data": {
      "text/plain": [
       "array([[4, 3],\n",
       "       [4, 4]])"
      ]
     },
     "execution_count": 98,
     "metadata": {},
     "output_type": "execute_result"
    }
   ],
   "source": [
    "a + b"
   ]
  },
  {
   "cell_type": "code",
   "execution_count": 99,
   "id": "ae70f112",
   "metadata": {},
   "outputs": [
    {
     "data": {
      "text/plain": [
       "array([[3, 2],\n",
       "       [4, 3]])"
      ]
     },
     "execution_count": 99,
     "metadata": {},
     "output_type": "execute_result"
    }
   ],
   "source": [
    "#hadamard product\n",
    "a * b"
   ]
  },
  {
   "cell_type": "code",
   "execution_count": 100,
   "id": "23328522",
   "metadata": {},
   "outputs": [
    {
     "data": {
      "text/plain": [
       "array([[0.33333333, 2.        ],\n",
       "       [1.        , 3.        ]])"
      ]
     },
     "execution_count": 100,
     "metadata": {},
     "output_type": "execute_result"
    }
   ],
   "source": [
    "a / b "
   ]
  },
  {
   "cell_type": "code",
   "execution_count": 101,
   "id": "b5e720d6",
   "metadata": {},
   "outputs": [
    {
     "data": {
      "text/plain": [
       "array([ 6, 12, 15])"
      ]
     },
     "execution_count": 101,
     "metadata": {},
     "output_type": "execute_result"
    }
   ],
   "source": [
    "adata =  np.array([[1,2,3],\n",
    "                  [3,4,5],\n",
    "                  [4,5,6]])\n",
    "adata.sum(axis=1)"
   ]
  },
  {
   "cell_type": "code",
   "execution_count": 102,
   "id": "8fa93e97",
   "metadata": {},
   "outputs": [
    {
     "data": {
      "text/plain": [
       "array([ 8, 11, 14])"
      ]
     },
     "execution_count": 102,
     "metadata": {},
     "output_type": "execute_result"
    }
   ],
   "source": [
    "adata.sum(axis=0)"
   ]
  },
  {
   "cell_type": "code",
   "execution_count": 103,
   "id": "d15b3f21",
   "metadata": {},
   "outputs": [
    {
     "data": {
      "text/plain": [
       "array([2.66666667, 3.66666667, 4.66666667])"
      ]
     },
     "execution_count": 103,
     "metadata": {},
     "output_type": "execute_result"
    }
   ],
   "source": [
    "adata.mean(axis=0)"
   ]
  },
  {
   "cell_type": "code",
   "execution_count": 105,
   "id": "c242329a",
   "metadata": {},
   "outputs": [
    {
     "data": {
      "text/plain": [
       "array([3., 4., 5.])"
      ]
     },
     "execution_count": 105,
     "metadata": {},
     "output_type": "execute_result"
    }
   ],
   "source": [
    "np.median(adata,axis=0)"
   ]
  },
  {
   "cell_type": "code",
   "execution_count": 108,
   "id": "71ad7318",
   "metadata": {},
   "outputs": [
    {
     "data": {
      "text/plain": [
       "array([[2., 3., 4.],\n",
       "       [4., 5., 6.],\n",
       "       [5., 6., 7.]])"
      ]
     },
     "execution_count": 108,
     "metadata": {},
     "output_type": "execute_result"
    }
   ],
   "source": [
    "adata + np.ones(3)"
   ]
  },
  {
   "cell_type": "markdown",
   "id": "8ec9d2a1",
   "metadata": {},
   "source": [
    "### Broadcasting"
   ]
  },
  {
   "cell_type": "code",
   "execution_count": 109,
   "id": "4a121b8c",
   "metadata": {},
   "outputs": [
    {
     "data": {
      "text/plain": [
       "array([[ 2,  4,  6],\n",
       "       [ 6,  8, 10],\n",
       "       [ 8, 10, 12]])"
      ]
     },
     "execution_count": 109,
     "metadata": {},
     "output_type": "execute_result"
    }
   ],
   "source": [
    "adata *2"
   ]
  },
  {
   "cell_type": "markdown",
   "id": "0d0371a1",
   "metadata": {},
   "source": [
    "### max-min \n"
   ]
  },
  {
   "cell_type": "code",
   "execution_count": 110,
   "id": "8567e4d4",
   "metadata": {},
   "outputs": [
    {
     "data": {
      "text/plain": [
       "array([4, 5, 6])"
      ]
     },
     "execution_count": 110,
     "metadata": {},
     "output_type": "execute_result"
    }
   ],
   "source": [
    "adata.max(axis=0)"
   ]
  },
  {
   "cell_type": "code",
   "execution_count": 111,
   "id": "223c99e9",
   "metadata": {},
   "outputs": [
    {
     "data": {
      "text/plain": [
       "array([1, 2, 3])"
      ]
     },
     "execution_count": 111,
     "metadata": {},
     "output_type": "execute_result"
    }
   ],
   "source": [
    "adata.min(axis=0)"
   ]
  },
  {
   "cell_type": "code",
   "execution_count": 112,
   "id": "4e7c4726",
   "metadata": {},
   "outputs": [
    {
     "data": {
      "text/plain": [
       "array([3, 5, 6])"
      ]
     },
     "execution_count": 112,
     "metadata": {},
     "output_type": "execute_result"
    }
   ],
   "source": [
    "adata.max(axis=1)"
   ]
  },
  {
   "cell_type": "code",
   "execution_count": 113,
   "id": "9b3e8fc9",
   "metadata": {},
   "outputs": [
    {
     "data": {
      "text/plain": [
       "array([1, 3, 4])"
      ]
     },
     "execution_count": 113,
     "metadata": {},
     "output_type": "execute_result"
    }
   ],
   "source": [
    "adata.min(axis=1)"
   ]
  },
  {
   "cell_type": "code",
   "execution_count": 114,
   "id": "c490d0ce",
   "metadata": {},
   "outputs": [
    {
     "data": {
      "text/plain": [
       "6"
      ]
     },
     "execution_count": 114,
     "metadata": {},
     "output_type": "execute_result"
    }
   ],
   "source": [
    "adata.max()"
   ]
  },
  {
   "cell_type": "code",
   "execution_count": 115,
   "id": "223a0473",
   "metadata": {},
   "outputs": [
    {
     "data": {
      "text/plain": [
       "1"
      ]
     },
     "execution_count": 115,
     "metadata": {},
     "output_type": "execute_result"
    }
   ],
   "source": [
    "adata.min()"
   ]
  },
  {
   "cell_type": "markdown",
   "id": "9f9f7ade",
   "metadata": {},
   "source": [
    "### matrix"
   ]
  },
  {
   "cell_type": "code",
   "execution_count": 116,
   "id": "adbacc91",
   "metadata": {},
   "outputs": [],
   "source": [
    "# dot prodak\n",
    "a2 = np.array([[1,2,3],[4,5,6]])\n",
    "b2 = np.array([[4,5,6],[7,8,9]])"
   ]
  },
  {
   "cell_type": "code",
   "execution_count": 117,
   "id": "4fa5491c",
   "metadata": {},
   "outputs": [
    {
     "data": {
      "text/plain": [
       "array([[ 32,  50],\n",
       "       [ 77, 122]])"
      ]
     },
     "execution_count": 117,
     "metadata": {},
     "output_type": "execute_result"
    }
   ],
   "source": [
    "np.dot(a2,b2.T)"
   ]
  },
  {
   "cell_type": "code",
   "execution_count": 119,
   "id": "09f7f592",
   "metadata": {},
   "outputs": [
    {
     "data": {
      "text/plain": [
       "array([[1, 2, 3],\n",
       "       [4, 5, 6]])"
      ]
     },
     "execution_count": 119,
     "metadata": {},
     "output_type": "execute_result"
    }
   ],
   "source": [
    "a2"
   ]
  },
  {
   "cell_type": "code",
   "execution_count": 118,
   "id": "dce7a2df",
   "metadata": {},
   "outputs": [
    {
     "data": {
      "text/plain": [
       "array([[1, 4],\n",
       "       [2, 5],\n",
       "       [3, 6]])"
      ]
     },
     "execution_count": 118,
     "metadata": {},
     "output_type": "execute_result"
    }
   ],
   "source": [
    "a2.T"
   ]
  },
  {
   "cell_type": "code",
   "execution_count": 121,
   "id": "de7a4065",
   "metadata": {},
   "outputs": [
    {
     "data": {
      "text/plain": [
       "(2, 3)"
      ]
     },
     "execution_count": 121,
     "metadata": {},
     "output_type": "execute_result"
    }
   ],
   "source": [
    "a2.shape"
   ]
  },
  {
   "cell_type": "code",
   "execution_count": 123,
   "id": "c23bd992",
   "metadata": {},
   "outputs": [
    {
     "data": {
      "text/plain": [
       "array([1, 2, 3, 4, 5, 6])"
      ]
     },
     "execution_count": 123,
     "metadata": {},
     "output_type": "execute_result"
    }
   ],
   "source": [
    "a2.flatten()"
   ]
  },
  {
   "cell_type": "code",
   "execution_count": 125,
   "id": "a01c6e94",
   "metadata": {},
   "outputs": [
    {
     "data": {
      "text/plain": [
       "array([1, 2, 3, 4, 5, 6])"
      ]
     },
     "execution_count": 125,
     "metadata": {},
     "output_type": "execute_result"
    }
   ],
   "source": [
    "a2.ravel() #sama kek flatten"
   ]
  },
  {
   "cell_type": "code",
   "execution_count": null,
   "id": "abaf18fd",
   "metadata": {},
   "outputs": [],
   "source": [
    "# terapin formula pake numpy\n"
   ]
  },
  {
   "cell_type": "code",
   "execution_count": 131,
   "id": "3d6d95b7",
   "metadata": {},
   "outputs": [
    {
     "data": {
      "text/plain": [
       "array([0.60599619, 0.51377862, 0.61018576])"
      ]
     },
     "execution_count": 131,
     "metadata": {},
     "output_type": "execute_result"
    }
   ],
   "source": [
    "# transpose\n",
    "\n",
    "a3 = np.random.rand(3)\n",
    "a3"
   ]
  },
  {
   "cell_type": "code",
   "execution_count": 132,
   "id": "bf23c269",
   "metadata": {},
   "outputs": [
    {
     "data": {
      "text/plain": [
       "array([0.60599619, 0.51377862, 0.61018576])"
      ]
     },
     "execution_count": 132,
     "metadata": {},
     "output_type": "execute_result"
    }
   ],
   "source": [
    "a3.T"
   ]
  },
  {
   "cell_type": "code",
   "execution_count": 134,
   "id": "5d2f7d1a",
   "metadata": {},
   "outputs": [
    {
     "data": {
      "text/plain": [
       "array([[0.91743384],\n",
       "       [0.75758676],\n",
       "       [0.32725359]])"
      ]
     },
     "execution_count": 134,
     "metadata": {},
     "output_type": "execute_result"
    }
   ],
   "source": [
    "#harusnya tidak begitu\n",
    "# supaya aman maka : \n",
    "a3 = np.random.rand(3,1)\n",
    "a3"
   ]
  },
  {
   "cell_type": "code",
   "execution_count": 135,
   "id": "1e654d6a",
   "metadata": {},
   "outputs": [
    {
     "data": {
      "text/plain": [
       "array([[0.91743384, 0.75758676, 0.32725359]])"
      ]
     },
     "execution_count": 135,
     "metadata": {},
     "output_type": "execute_result"
    }
   ],
   "source": [
    "a3.T"
   ]
  },
  {
   "cell_type": "markdown",
   "id": "338fe72b",
   "metadata": {},
   "source": [
    "### Exercise"
   ]
  },
  {
   "cell_type": "code",
   "execution_count": 137,
   "id": "e20772cb",
   "metadata": {},
   "outputs": [
    {
     "data": {
      "text/plain": [
       "array([[[0.88611307, 0.46774694],\n",
       "        [0.93112854, 0.59478471]],\n",
       "\n",
       "       [[0.3009755 , 0.63291496],\n",
       "        [0.25695327, 0.50413081]],\n",
       "\n",
       "       [[0.16810179, 0.9996475 ],\n",
       "        [0.13952038, 0.54320708]]])"
      ]
     },
     "execution_count": 137,
     "metadata": {},
     "output_type": "execute_result"
    }
   ],
   "source": [
    "# 1\n",
    "def RGB(n):\n",
    "    return np.random.rand(3,n,n)\n",
    "RGB(2)"
   ]
  },
  {
   "cell_type": "code",
   "execution_count": 145,
   "id": "c129cfd1",
   "metadata": {},
   "outputs": [
    {
     "data": {
      "text/plain": [
       "array([[[0.23432789, 0.85723733, 0.12901274, 0.18106884],\n",
       "        [0.15518059, 0.35684953, 0.88811002, 0.14742485],\n",
       "        [0.73930031, 0.87257323, 0.96348127, 0.40008957],\n",
       "        [0.58634127, 0.69131176, 0.84183426, 0.33547534]],\n",
       "\n",
       "       [[0.6711271 , 0.82213475, 0.42670432, 0.42235502],\n",
       "        [0.76638696, 0.73331151, 0.79161703, 0.02543504],\n",
       "        [0.12510717, 0.27150845, 0.88236135, 0.67468755],\n",
       "        [0.96295869, 0.2005726 , 0.51163673, 0.03024722]],\n",
       "\n",
       "       [[0.82561065, 0.24779446, 0.45241903, 0.78392934],\n",
       "        [0.09177554, 0.66125397, 0.20088984, 0.01253485],\n",
       "        [0.92191572, 0.76646121, 0.42927416, 0.38387282],\n",
       "        [0.7082336 , 0.8439124 , 0.18344154, 0.4919253 ]],\n",
       "\n",
       "       [[0.88282666, 0.31297022, 0.51455503, 0.7649983 ],\n",
       "        [0.12978137, 0.42540052, 0.81003018, 0.18994989],\n",
       "        [0.27589846, 0.18829717, 0.18697856, 0.49114569],\n",
       "        [0.37628615, 0.48608277, 0.00592796, 0.52789602]]])"
      ]
     },
     "execution_count": 145,
     "metadata": {},
     "output_type": "execute_result"
    }
   ],
   "source": [
    "# 2\n",
    "def rubik(n):\n",
    "    return np.random.rand(n,n,n)\n",
    "rubik(4)"
   ]
  },
  {
   "cell_type": "code",
   "execution_count": 142,
   "id": "c6b886ca",
   "metadata": {},
   "outputs": [],
   "source": [
    "# 3\n",
    "def split(n):\n",
    "    train = n[:round(.8*len(n))]\n",
    "    test = n[round(.8*len(n)):]\n",
    "    return train,test\n",
    "\n",
    "data = np.random.rand(100,2)\n",
    "t1,t2 = split(data)"
   ]
  },
  {
   "cell_type": "code",
   "execution_count": 143,
   "id": "617d19a0",
   "metadata": {},
   "outputs": [
    {
     "data": {
      "text/plain": [
       "(80, 2)"
      ]
     },
     "execution_count": 143,
     "metadata": {},
     "output_type": "execute_result"
    }
   ],
   "source": [
    "t1.shape"
   ]
  },
  {
   "cell_type": "code",
   "execution_count": 144,
   "id": "7ba1e682",
   "metadata": {},
   "outputs": [
    {
     "data": {
      "text/plain": [
       "(20, 2)"
      ]
     },
     "execution_count": 144,
     "metadata": {},
     "output_type": "execute_result"
    }
   ],
   "source": [
    "t2.shape"
   ]
  },
  {
   "cell_type": "code",
   "execution_count": 176,
   "id": "b411ea4c",
   "metadata": {},
   "outputs": [],
   "source": [
    "def mse(n):\n",
    "    axx = np.array([])\n",
    "    for i in range(len(n)):\n",
    "        np.append(axx,np.square(n[i,0]-n[i,1]))\n",
    "    print(axx)\n",
    "    return (1/n) * np.sum(axx)"
   ]
  },
  {
   "cell_type": "code",
   "execution_count": 177,
   "id": "f03df3e8",
   "metadata": {},
   "outputs": [
    {
     "name": "stdout",
     "output_type": "stream",
     "text": [
      "[]\n"
     ]
    },
    {
     "data": {
      "text/plain": [
       "array([[0., 0.],\n",
       "       [0., 0.],\n",
       "       [0., 0.],\n",
       "       [0., 0.],\n",
       "       [0., 0.],\n",
       "       [0., 0.],\n",
       "       [0., 0.],\n",
       "       [0., 0.],\n",
       "       [0., 0.],\n",
       "       [0., 0.]])"
      ]
     },
     "execution_count": 177,
     "metadata": {},
     "output_type": "execute_result"
    }
   ],
   "source": [
    "a = np.random.rand(10,2)\n",
    "b = 0\n",
    "mse(a)"
   ]
  },
  {
   "cell_type": "code",
   "execution_count": 167,
   "id": "9a7bb637",
   "metadata": {},
   "outputs": [
    {
     "data": {
      "text/plain": [
       "array([[0., 0.],\n",
       "       [0., 0.]])"
      ]
     },
     "execution_count": 167,
     "metadata": {},
     "output_type": "execute_result"
    }
   ],
   "source": [
    "b"
   ]
  },
  {
   "cell_type": "code",
   "execution_count": 158,
   "id": "ad317634",
   "metadata": {},
   "outputs": [
    {
     "data": {
      "text/plain": [
       "array([[1, 2],\n",
       "       [3, 4]])"
      ]
     },
     "execution_count": 158,
     "metadata": {},
     "output_type": "execute_result"
    }
   ],
   "source": [
    "a = np.array([[1,2],[3,4]])\n",
    "a"
   ]
  },
  {
   "cell_type": "code",
   "execution_count": 159,
   "id": "b4cb3a48",
   "metadata": {},
   "outputs": [
    {
     "data": {
      "text/plain": [
       "4"
      ]
     },
     "execution_count": 159,
     "metadata": {},
     "output_type": "execute_result"
    }
   ],
   "source": [
    "a[1,1]"
   ]
  }
 ],
 "metadata": {
  "kernelspec": {
   "display_name": "H8_001",
   "language": "python",
   "name": "h8_001"
  },
  "language_info": {
   "codemirror_mode": {
    "name": "ipython",
    "version": 3
   },
   "file_extension": ".py",
   "mimetype": "text/x-python",
   "name": "python",
   "nbconvert_exporter": "python",
   "pygments_lexer": "ipython3",
   "version": "3.8.11"
  }
 },
 "nbformat": 4,
 "nbformat_minor": 5
}
