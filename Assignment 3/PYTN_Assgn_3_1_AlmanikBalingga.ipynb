{
 "cells": [
  {
   "cell_type": "markdown",
   "id": "3f98ede7",
   "metadata": {},
   "source": [
    "# Almanik Balingga\n",
    "## almanik.work@gmail.com"
   ]
  },
  {
   "cell_type": "markdown",
   "id": "705de43b",
   "metadata": {},
   "source": [
    "### Versi Library"
   ]
  },
  {
   "cell_type": "markdown",
   "id": "dc35a834",
   "metadata": {},
   "source": [
    "Scipy : 1.6.2 <br>\n",
    "Sklearn : 1.0"
   ]
  },
  {
   "cell_type": "markdown",
   "id": "6c35f449",
   "metadata": {},
   "source": [
    "### Import Library"
   ]
  },
  {
   "cell_type": "markdown",
   "id": "29c0cbfd",
   "metadata": {},
   "source": [
    "Sebelum memulai code, kita terlebih dahulu akan menyiapkan library yang nantinya digunakan pada Assignment ini. Adapun daftar library adalah sebagai berikut : numpy, pandas, matplotlib, seaborn, dan scikit-learn."
   ]
  },
  {
   "cell_type": "code",
   "execution_count": 1,
   "id": "2b98ad81",
   "metadata": {},
   "outputs": [],
   "source": [
    "from __future__ import print_function, division\n",
    "import numpy as np\n",
    "import pandas as pd\n",
    "import matplotlib as mpl\n",
    "import matplotlib.pyplot as plt\n",
    "import seaborn as sns\n",
    "%matplotlib inline\n",
    "from sklearn.model_selection import RandomizedSearchCV\n",
    "from sklearn import metrics\n",
    "# agar tidak muncul pesan warning, maka kita akan men-ignore \n",
    "import warnings\n",
    "warnings.filterwarnings('ignore')"
   ]
  },
  {
   "cell_type": "markdown",
   "id": "86e45aee",
   "metadata": {},
   "source": [
    "### Loading Data"
   ]
  },
  {
   "cell_type": "markdown",
   "id": "f4d6f798",
   "metadata": {},
   "source": [
    "Dataset yang akan digunakna adalah dataset Bank Marketing yang merupakan data panggilan marketing yang dilakukan oleh sebuah bank pada customernya."
   ]
  },
  {
   "cell_type": "markdown",
   "id": "36f6871f",
   "metadata": {},
   "source": [
    "Sebelumnya, kita akan meloading data menggunakna bantuan pandas, untuk delimiter kita akan gunakna ';' karena pada data tidak menggunakan tanda koma sebagai default delimiter, sehingga kita perlu mendifinisikannya."
   ]
  },
  {
   "cell_type": "code",
   "execution_count": 2,
   "id": "1f392082",
   "metadata": {},
   "outputs": [],
   "source": [
    "df = pd.read_csv('dataset/bank-additional-full.csv',delimiter=';')"
   ]
  },
  {
   "cell_type": "markdown",
   "id": "a4aec684",
   "metadata": {},
   "source": [
    "Setelah itu, kita akan mencoba melihat kondisi data kita dengan melihat lima baris data pertama."
   ]
  },
  {
   "cell_type": "code",
   "execution_count": 3,
   "id": "a9e759b6",
   "metadata": {},
   "outputs": [
    {
     "data": {
      "text/html": [
       "<div>\n",
       "<style scoped>\n",
       "    .dataframe tbody tr th:only-of-type {\n",
       "        vertical-align: middle;\n",
       "    }\n",
       "\n",
       "    .dataframe tbody tr th {\n",
       "        vertical-align: top;\n",
       "    }\n",
       "\n",
       "    .dataframe thead th {\n",
       "        text-align: right;\n",
       "    }\n",
       "</style>\n",
       "<table border=\"1\" class=\"dataframe\">\n",
       "  <thead>\n",
       "    <tr style=\"text-align: right;\">\n",
       "      <th></th>\n",
       "      <th>age</th>\n",
       "      <th>job</th>\n",
       "      <th>marital</th>\n",
       "      <th>education</th>\n",
       "      <th>default</th>\n",
       "      <th>housing</th>\n",
       "      <th>loan</th>\n",
       "      <th>contact</th>\n",
       "      <th>month</th>\n",
       "      <th>day_of_week</th>\n",
       "      <th>...</th>\n",
       "      <th>campaign</th>\n",
       "      <th>pdays</th>\n",
       "      <th>previous</th>\n",
       "      <th>poutcome</th>\n",
       "      <th>emp.var.rate</th>\n",
       "      <th>cons.price.idx</th>\n",
       "      <th>cons.conf.idx</th>\n",
       "      <th>euribor3m</th>\n",
       "      <th>nr.employed</th>\n",
       "      <th>y</th>\n",
       "    </tr>\n",
       "  </thead>\n",
       "  <tbody>\n",
       "    <tr>\n",
       "      <th>0</th>\n",
       "      <td>56</td>\n",
       "      <td>housemaid</td>\n",
       "      <td>married</td>\n",
       "      <td>basic.4y</td>\n",
       "      <td>no</td>\n",
       "      <td>no</td>\n",
       "      <td>no</td>\n",
       "      <td>telephone</td>\n",
       "      <td>may</td>\n",
       "      <td>mon</td>\n",
       "      <td>...</td>\n",
       "      <td>1</td>\n",
       "      <td>999</td>\n",
       "      <td>0</td>\n",
       "      <td>nonexistent</td>\n",
       "      <td>1.1</td>\n",
       "      <td>93.994</td>\n",
       "      <td>-36.4</td>\n",
       "      <td>4.857</td>\n",
       "      <td>5191.0</td>\n",
       "      <td>no</td>\n",
       "    </tr>\n",
       "    <tr>\n",
       "      <th>1</th>\n",
       "      <td>57</td>\n",
       "      <td>services</td>\n",
       "      <td>married</td>\n",
       "      <td>high.school</td>\n",
       "      <td>unknown</td>\n",
       "      <td>no</td>\n",
       "      <td>no</td>\n",
       "      <td>telephone</td>\n",
       "      <td>may</td>\n",
       "      <td>mon</td>\n",
       "      <td>...</td>\n",
       "      <td>1</td>\n",
       "      <td>999</td>\n",
       "      <td>0</td>\n",
       "      <td>nonexistent</td>\n",
       "      <td>1.1</td>\n",
       "      <td>93.994</td>\n",
       "      <td>-36.4</td>\n",
       "      <td>4.857</td>\n",
       "      <td>5191.0</td>\n",
       "      <td>no</td>\n",
       "    </tr>\n",
       "    <tr>\n",
       "      <th>2</th>\n",
       "      <td>37</td>\n",
       "      <td>services</td>\n",
       "      <td>married</td>\n",
       "      <td>high.school</td>\n",
       "      <td>no</td>\n",
       "      <td>yes</td>\n",
       "      <td>no</td>\n",
       "      <td>telephone</td>\n",
       "      <td>may</td>\n",
       "      <td>mon</td>\n",
       "      <td>...</td>\n",
       "      <td>1</td>\n",
       "      <td>999</td>\n",
       "      <td>0</td>\n",
       "      <td>nonexistent</td>\n",
       "      <td>1.1</td>\n",
       "      <td>93.994</td>\n",
       "      <td>-36.4</td>\n",
       "      <td>4.857</td>\n",
       "      <td>5191.0</td>\n",
       "      <td>no</td>\n",
       "    </tr>\n",
       "    <tr>\n",
       "      <th>3</th>\n",
       "      <td>40</td>\n",
       "      <td>admin.</td>\n",
       "      <td>married</td>\n",
       "      <td>basic.6y</td>\n",
       "      <td>no</td>\n",
       "      <td>no</td>\n",
       "      <td>no</td>\n",
       "      <td>telephone</td>\n",
       "      <td>may</td>\n",
       "      <td>mon</td>\n",
       "      <td>...</td>\n",
       "      <td>1</td>\n",
       "      <td>999</td>\n",
       "      <td>0</td>\n",
       "      <td>nonexistent</td>\n",
       "      <td>1.1</td>\n",
       "      <td>93.994</td>\n",
       "      <td>-36.4</td>\n",
       "      <td>4.857</td>\n",
       "      <td>5191.0</td>\n",
       "      <td>no</td>\n",
       "    </tr>\n",
       "    <tr>\n",
       "      <th>4</th>\n",
       "      <td>56</td>\n",
       "      <td>services</td>\n",
       "      <td>married</td>\n",
       "      <td>high.school</td>\n",
       "      <td>no</td>\n",
       "      <td>no</td>\n",
       "      <td>yes</td>\n",
       "      <td>telephone</td>\n",
       "      <td>may</td>\n",
       "      <td>mon</td>\n",
       "      <td>...</td>\n",
       "      <td>1</td>\n",
       "      <td>999</td>\n",
       "      <td>0</td>\n",
       "      <td>nonexistent</td>\n",
       "      <td>1.1</td>\n",
       "      <td>93.994</td>\n",
       "      <td>-36.4</td>\n",
       "      <td>4.857</td>\n",
       "      <td>5191.0</td>\n",
       "      <td>no</td>\n",
       "    </tr>\n",
       "  </tbody>\n",
       "</table>\n",
       "<p>5 rows × 21 columns</p>\n",
       "</div>"
      ],
      "text/plain": [
       "   age        job  marital    education  default housing loan    contact  \\\n",
       "0   56  housemaid  married     basic.4y       no      no   no  telephone   \n",
       "1   57   services  married  high.school  unknown      no   no  telephone   \n",
       "2   37   services  married  high.school       no     yes   no  telephone   \n",
       "3   40     admin.  married     basic.6y       no      no   no  telephone   \n",
       "4   56   services  married  high.school       no      no  yes  telephone   \n",
       "\n",
       "  month day_of_week  ...  campaign  pdays  previous     poutcome emp.var.rate  \\\n",
       "0   may         mon  ...         1    999         0  nonexistent          1.1   \n",
       "1   may         mon  ...         1    999         0  nonexistent          1.1   \n",
       "2   may         mon  ...         1    999         0  nonexistent          1.1   \n",
       "3   may         mon  ...         1    999         0  nonexistent          1.1   \n",
       "4   may         mon  ...         1    999         0  nonexistent          1.1   \n",
       "\n",
       "   cons.price.idx  cons.conf.idx  euribor3m  nr.employed   y  \n",
       "0          93.994          -36.4      4.857       5191.0  no  \n",
       "1          93.994          -36.4      4.857       5191.0  no  \n",
       "2          93.994          -36.4      4.857       5191.0  no  \n",
       "3          93.994          -36.4      4.857       5191.0  no  \n",
       "4          93.994          -36.4      4.857       5191.0  no  \n",
       "\n",
       "[5 rows x 21 columns]"
      ]
     },
     "execution_count": 3,
     "metadata": {},
     "output_type": "execute_result"
    }
   ],
   "source": [
    "df.head()"
   ]
  },
  {
   "cell_type": "markdown",
   "id": "fac927bb",
   "metadata": {},
   "source": [
    "Kita juga bisa melakukan pengecekan tipe data pada tiap series di dataframe."
   ]
  },
  {
   "cell_type": "code",
   "execution_count": 4,
   "id": "df8fbc1d",
   "metadata": {},
   "outputs": [
    {
     "name": "stdout",
     "output_type": "stream",
     "text": [
      "<class 'pandas.core.frame.DataFrame'>\n",
      "RangeIndex: 41188 entries, 0 to 41187\n",
      "Data columns (total 21 columns):\n",
      " #   Column          Non-Null Count  Dtype  \n",
      "---  ------          --------------  -----  \n",
      " 0   age             41188 non-null  int64  \n",
      " 1   job             41188 non-null  object \n",
      " 2   marital         41188 non-null  object \n",
      " 3   education       41188 non-null  object \n",
      " 4   default         41188 non-null  object \n",
      " 5   housing         41188 non-null  object \n",
      " 6   loan            41188 non-null  object \n",
      " 7   contact         41188 non-null  object \n",
      " 8   month           41188 non-null  object \n",
      " 9   day_of_week     41188 non-null  object \n",
      " 10  duration        41188 non-null  int64  \n",
      " 11  campaign        41188 non-null  int64  \n",
      " 12  pdays           41188 non-null  int64  \n",
      " 13  previous        41188 non-null  int64  \n",
      " 14  poutcome        41188 non-null  object \n",
      " 15  emp.var.rate    41188 non-null  float64\n",
      " 16  cons.price.idx  41188 non-null  float64\n",
      " 17  cons.conf.idx   41188 non-null  float64\n",
      " 18  euribor3m       41188 non-null  float64\n",
      " 19  nr.employed     41188 non-null  float64\n",
      " 20  y               41188 non-null  object \n",
      "dtypes: float64(5), int64(5), object(11)\n",
      "memory usage: 6.6+ MB\n"
     ]
    }
   ],
   "source": [
    "df.info()"
   ]
  },
  {
   "cell_type": "markdown",
   "id": "3a2aa765",
   "metadata": {},
   "source": [
    "Setelah emmastikan tiap tipe data pada masing masing kolom, kita bisa memeriksa data yang memiliki missing values dengan menggunakan method *.isnull()* dan *.sum()*"
   ]
  },
  {
   "cell_type": "code",
   "execution_count": 5,
   "id": "a1d34675",
   "metadata": {},
   "outputs": [
    {
     "data": {
      "text/plain": [
       "age               0\n",
       "job               0\n",
       "marital           0\n",
       "education         0\n",
       "default           0\n",
       "housing           0\n",
       "loan              0\n",
       "contact           0\n",
       "month             0\n",
       "day_of_week       0\n",
       "duration          0\n",
       "campaign          0\n",
       "pdays             0\n",
       "previous          0\n",
       "poutcome          0\n",
       "emp.var.rate      0\n",
       "cons.price.idx    0\n",
       "cons.conf.idx     0\n",
       "euribor3m         0\n",
       "nr.employed       0\n",
       "y                 0\n",
       "dtype: int64"
      ]
     },
     "execution_count": 5,
     "metadata": {},
     "output_type": "execute_result"
    }
   ],
   "source": [
    "df.isnull().sum()"
   ]
  },
  {
   "cell_type": "markdown",
   "id": "026194a8",
   "metadata": {},
   "source": [
    "### Data Preprocessing"
   ]
  },
  {
   "cell_type": "markdown",
   "id": "767888af",
   "metadata": {},
   "source": [
    "Karena kita tahu beberapa data berbentuk kategorikal dan beberapa lagi berbentuk data numerik, maka kita akna membagi preprocessing ke dalam dua bagian."
   ]
  },
  {
   "cell_type": "markdown",
   "id": "1d914f21",
   "metadata": {},
   "source": [
    "### Kategorikal"
   ]
  },
  {
   "cell_type": "markdown",
   "id": "970da5b7",
   "metadata": {},
   "source": [
    "Pertama tama kita akn mencoba untuk melakukan preprocessing pada data kategorikal. Untuk mencari kolom yang berbentuk kategorikal, kita akan melakukan looping dan melihat tipe data dari tiap kolom. Dari situ kita akan mendapatkan mana saja yang termasuk kategorikal. Pada tahap ini kita juga akan menyimpan data kolom yang berjenis numerik."
   ]
  },
  {
   "cell_type": "code",
   "execution_count": 6,
   "id": "578c04ec",
   "metadata": {},
   "outputs": [
    {
     "name": "stdout",
     "output_type": "stream",
     "text": [
      "job  =  ['housemaid' 'services' 'admin.' 'blue-collar' 'technician' 'retired'\n",
      " 'management' 'unemployed' 'self-employed' 'unknown' 'entrepreneur'\n",
      " 'student']\n",
      "\n",
      "marital  =  ['married' 'single' 'divorced' 'unknown']\n",
      "\n",
      "education  =  ['basic.4y' 'high.school' 'basic.6y' 'basic.9y' 'professional.course'\n",
      " 'unknown' 'university.degree' 'illiterate']\n",
      "\n",
      "default  =  ['no' 'unknown' 'yes']\n",
      "\n",
      "housing  =  ['no' 'yes' 'unknown']\n",
      "\n",
      "loan  =  ['no' 'yes' 'unknown']\n",
      "\n",
      "contact  =  ['telephone' 'cellular']\n",
      "\n",
      "month  =  ['may' 'jun' 'jul' 'aug' 'oct' 'nov' 'dec' 'mar' 'apr' 'sep']\n",
      "\n",
      "day_of_week  =  ['mon' 'tue' 'wed' 'thu' 'fri']\n",
      "\n",
      "poutcome  =  ['nonexistent' 'failure' 'success']\n",
      "\n",
      "y  =  ['no' 'yes']\n",
      "\n"
     ]
    }
   ],
   "source": [
    "# variabel kolom\n",
    "kategorikal = []\n",
    "numerikal =[]\n",
    "# looping untuk mencari kolom kategorikal dan numerik, dalam hal ini juga akan di print kolom kolom numerik\n",
    "# beserta valuenya\n",
    "for col in df.columns:\n",
    "    if df[col].dtype == 'object':\n",
    "        # append kolom kategorikal\n",
    "        kategorikal.append(col)\n",
    "        print(col,\" = \", df[col].unique())\n",
    "        print()\n",
    "    else:\n",
    "        # append kolom numerikal\n",
    "        numerikal.append(col)\n",
    "    "
   ]
  },
  {
   "cell_type": "markdown",
   "id": "6922bfc2",
   "metadata": {},
   "source": [
    "Selanjutnya kita akan coba visualisasikan bagaimana frekuensi persebaran data yang berjenis data kategorikal untuk tiap kelas \"Yes\" dan \"No\" di tiap kolom kategorikal."
   ]
  },
  {
   "cell_type": "markdown",
   "id": "1db4e149",
   "metadata": {},
   "source": [
    "#### Job"
   ]
  },
  {
   "cell_type": "code",
   "execution_count": 7,
   "id": "9554208a",
   "metadata": {},
   "outputs": [
    {
     "data": {
      "image/png": "[encoded data removed]",
      "text/plain": [
       "<Figure size 1080x432 with 1 Axes>"
      ]
     },
     "metadata": {
      "needs_background": "light"
     },
     "output_type": "display_data"
    }
   ],
   "source": [
    "plt.figure(figsize=(15, 6))\n",
    "# print(column.title())\n",
    "ax = sns.countplot(x = df['job'], hue=df[\"y\"])\n",
    "plt.show()"
   ]
  },
  {
   "cell_type": "markdown",
   "id": "5839ad86",
   "metadata": {},
   "source": [
    "Terlihat pada kolom job, banyak pekerjaan customer yang bekerja sebagai admin, blue collar, dan technician."
   ]
  },
  {
   "cell_type": "markdown",
   "id": "502732ae",
   "metadata": {},
   "source": [
    "#### marital"
   ]
  },
  {
   "cell_type": "code",
   "execution_count": 8,
   "id": "ca0aa885",
   "metadata": {},
   "outputs": [
    {
     "data": {
      "image/png": "[encoded data removed]",
      "text/plain": [
       "<Figure size 1080x432 with 1 Axes>"
      ]
     },
     "metadata": {
      "needs_background": "light"
     },
     "output_type": "display_data"
    }
   ],
   "source": [
    "plt.figure(figsize=(15, 6))\n",
    "# print(column.title())\n",
    "ax = sns.countplot(x = df['marital'], hue=df[\"y\"])\n",
    "plt.show()"
   ]
  },
  {
   "cell_type": "markdown",
   "id": "f3abfece",
   "metadata": {},
   "source": [
    "Pada kolom marital status, dominan pada customer yang sudah menikah."
   ]
  },
  {
   "cell_type": "markdown",
   "id": "8f92f076",
   "metadata": {},
   "source": [
    "#### education"
   ]
  },
  {
   "cell_type": "code",
   "execution_count": 9,
   "id": "36fd1924",
   "metadata": {},
   "outputs": [
    {
     "data": {
      "image/png": "[encoded data removed]",
      "text/plain": [
       "<Figure size 1080x432 with 1 Axes>"
      ]
     },
     "metadata": {
      "needs_background": "light"
     },
     "output_type": "display_data"
    }
   ],
   "source": [
    "plt.figure(figsize=(15, 6))\n",
    "# print(column.title())\n",
    "ax = sns.countplot(x = df['education'], hue=df[\"y\"])\n",
    "plt.show()"
   ]
  },
  {
   "cell_type": "markdown",
   "id": "0123766b",
   "metadata": {},
   "source": [
    "Level pendidikan customer banyak di tingkat Universitas dan SMA."
   ]
  },
  {
   "cell_type": "markdown",
   "id": "f595491e",
   "metadata": {},
   "source": [
    "#### default"
   ]
  },
  {
   "cell_type": "code",
   "execution_count": 10,
   "id": "f2b8e2a7",
   "metadata": {},
   "outputs": [
    {
     "data": {
      "image/png": "[encoded data removed]",
      "text/plain": [
       "<Figure size 1080x432 with 1 Axes>"
      ]
     },
     "metadata": {
      "needs_background": "light"
     },
     "output_type": "display_data"
    }
   ],
   "source": [
    "plt.figure(figsize=(15, 6))\n",
    "# print(column.title())\n",
    "ax = sns.countplot(x = df['default'], hue=df[\"y\"])\n",
    "plt.show()"
   ]
  },
  {
   "cell_type": "markdown",
   "id": "ccb5d2ac",
   "metadata": {},
   "source": [
    "Untuk kolom default karena banyak data mengarah ke no dan unknown, bahkan hampir semua. maka saya memilih untuk menghilangkan kolom default."
   ]
  },
  {
   "cell_type": "markdown",
   "id": "1a0abfe0",
   "metadata": {},
   "source": [
    "#### housing"
   ]
  },
  {
   "cell_type": "code",
   "execution_count": 11,
   "id": "ab300ecb",
   "metadata": {},
   "outputs": [
    {
     "data": {
      "image/png": "[encoded data removed]",
      "text/plain": [
       "<Figure size 1080x432 with 1 Axes>"
      ]
     },
     "metadata": {
      "needs_background": "light"
     },
     "output_type": "display_data"
    }
   ],
   "source": [
    "plt.figure(figsize=(15, 6))\n",
    "# print(column.title())\n",
    "ax = sns.countplot(x = df['housing'], hue=df[\"y\"])\n",
    "plt.show()"
   ]
  },
  {
   "cell_type": "markdown",
   "id": "fadf0cd9",
   "metadata": {},
   "source": [
    "Untuk data housing sudah terlihat cukup baik."
   ]
  },
  {
   "cell_type": "markdown",
   "id": "66bdafe2",
   "metadata": {},
   "source": [
    "#### loan"
   ]
  },
  {
   "cell_type": "code",
   "execution_count": 12,
   "id": "1437da67",
   "metadata": {},
   "outputs": [
    {
     "data": {
      "image/png": "[encoded data removed]",
      "text/plain": [
       "<Figure size 1080x432 with 1 Axes>"
      ]
     },
     "metadata": {
      "needs_background": "light"
     },
     "output_type": "display_data"
    }
   ],
   "source": [
    "plt.figure(figsize=(15, 6))\n",
    "# print(column.title())\n",
    "ax = sns.countplot(x = df['loan'], hue=df[\"y\"])\n",
    "plt.show()"
   ]
  },
  {
   "cell_type": "markdown",
   "id": "5ec5cbb1",
   "metadata": {},
   "source": [
    "data loan terlihat cukup dominan pada no"
   ]
  },
  {
   "cell_type": "markdown",
   "id": "25f37fd1",
   "metadata": {},
   "source": [
    "#### contact"
   ]
  },
  {
   "cell_type": "code",
   "execution_count": 13,
   "id": "c669b0fc",
   "metadata": {},
   "outputs": [
    {
     "data": {
      "image/png": "[encoded data removed]",
      "text/plain": [
       "<Figure size 1080x432 with 1 Axes>"
      ]
     },
     "metadata": {
      "needs_background": "light"
     },
     "output_type": "display_data"
    }
   ],
   "source": [
    "plt.figure(figsize=(15, 6))\n",
    "# print(column.title())\n",
    "ax = sns.countplot(x = df['contact'], hue=df[\"y\"])\n",
    "plt.show()"
   ]
  },
  {
   "cell_type": "markdown",
   "id": "3f7e08c0",
   "metadata": {},
   "source": [
    "Untuk jenis kontak, tersebar secara hampir merata baik pada telephone maupun celular."
   ]
  },
  {
   "cell_type": "markdown",
   "id": "4bd85d23",
   "metadata": {},
   "source": [
    "#### month"
   ]
  },
  {
   "cell_type": "code",
   "execution_count": 14,
   "id": "e4573d60",
   "metadata": {},
   "outputs": [
    {
     "data": {
      "image/png": "[encoded data removed]",
      "text/plain": [
       "<Figure size 1080x432 with 1 Axes>"
      ]
     },
     "metadata": {
      "needs_background": "light"
     },
     "output_type": "display_data"
    }
   ],
   "source": [
    "plt.figure(figsize=(15, 6))\n",
    "# print(column.title())\n",
    "ax = sns.countplot(x = df['month'], hue=df[\"y\"])\n",
    "plt.show()"
   ]
  },
  {
   "cell_type": "markdown",
   "id": "dde0609f",
   "metadata": {},
   "source": [
    "Untuk bulan terlihat cukup fluktuatif dari jumlah panggilan, dan terlihat cukup banyak panggilan terjadi pada bulan mei, juni, juli, agustus, tetpai karena data berbasis pada panggilan yang dilakukan, maka data ini bagi saya terlihat kurang berarti. Sehingga saya memutuskan untuk menghilangkan data ini."
   ]
  },
  {
   "cell_type": "markdown",
   "id": "737f7f14",
   "metadata": {},
   "source": [
    "#### day_of_week"
   ]
  },
  {
   "cell_type": "code",
   "execution_count": 15,
   "id": "63c4c42b",
   "metadata": {},
   "outputs": [
    {
     "data": {
      "image/png": "[encoded data removed]",
      "text/plain": [
       "<Figure size 1080x432 with 1 Axes>"
      ]
     },
     "metadata": {
      "needs_background": "light"
     },
     "output_type": "display_data"
    }
   ],
   "source": [
    "plt.figure(figsize=(15, 6))\n",
    "# print(column.title())\n",
    "ax = sns.countplot(x = df['day_of_week'], hue=df[\"y\"])\n",
    "plt.show()"
   ]
  },
  {
   "cell_type": "markdown",
   "id": "b81b9e7e",
   "metadata": {},
   "source": [
    "Hampir sama alasannya dengan kolom bulan, kolom hari juag terlihat cukup stagnan, sehingga saya rasa hari tidak terlallu berpengaruh terhadap keputusan customer, hanya berpengaruh terhadap jumlah panggilan, akrena secara logika tiap harinya agen akan melakukan panggilan pada jumlah yang sama tiap harinya."
   ]
  },
  {
   "cell_type": "markdown",
   "id": "d641f426",
   "metadata": {},
   "source": [
    "#### poutcome"
   ]
  },
  {
   "cell_type": "code",
   "execution_count": 16,
   "id": "f053c849",
   "metadata": {},
   "outputs": [
    {
     "data": {
      "image/png": "[encoded data removed]",
      "text/plain": [
       "<Figure size 1080x432 with 1 Axes>"
      ]
     },
     "metadata": {
      "needs_background": "light"
     },
     "output_type": "display_data"
    }
   ],
   "source": [
    "plt.figure(figsize=(15, 6))\n",
    "# print(column.title())\n",
    "ax = sns.countplot(x = df['poutcome'], hue=df[\"y\"])\n",
    "plt.show()"
   ]
  },
  {
   "cell_type": "markdown",
   "id": "6d93ac24",
   "metadata": {},
   "source": [
    "Untuk poutcome terlihat dominan pada nilai nonexistent."
   ]
  },
  {
   "cell_type": "markdown",
   "id": "c29fc4d5",
   "metadata": {},
   "source": [
    "#### y"
   ]
  },
  {
   "cell_type": "code",
   "execution_count": 17,
   "id": "1e0e2ec5",
   "metadata": {},
   "outputs": [
    {
     "data": {
      "image/png": "[encoded data removed]",
      "text/plain": [
       "<Figure size 1080x432 with 1 Axes>"
      ]
     },
     "metadata": {
      "needs_background": "light"
     },
     "output_type": "display_data"
    }
   ],
   "source": [
    "plt.figure(figsize=(15, 6))\n",
    "# print(column.title())\n",
    "ax = sns.countplot(df['y'])\n",
    "plt.show()"
   ]
  },
  {
   "cell_type": "markdown",
   "id": "34688ba0",
   "metadata": {},
   "source": [
    "dan untuk kolom y, terlihat dominan nilai pada kolom data bernilai no, sehingga dapat dikatakan data ini masih kurang seimbang, sehingga nantinya mungkin dapat mempengaruhi hasil prediksi."
   ]
  },
  {
   "cell_type": "markdown",
   "id": "7283bbde",
   "metadata": {},
   "source": [
    "Sesuai hasil analisis tadi, maka berikutnya kita akan melakukan drop untuk kolom yang dirasa itdak berperan banyak."
   ]
  },
  {
   "cell_type": "code",
   "execution_count": 18,
   "id": "f5c4d1d3",
   "metadata": {},
   "outputs": [],
   "source": [
    "# drop yang tidak berpengaruh\n",
    "df.drop(['default','day_of_week', 'month'], axis=1, inplace = True)"
   ]
  },
  {
   "cell_type": "markdown",
   "id": "d26355cb",
   "metadata": {},
   "source": [
    "Lalu kita lakukan pengecekan pada data yang sudah dilakukan drop."
   ]
  },
  {
   "cell_type": "code",
   "execution_count": 19,
   "id": "e55bad00",
   "metadata": {},
   "outputs": [
    {
     "data": {
      "text/html": [
       "<div>\n",
       "<style scoped>\n",
       "    .dataframe tbody tr th:only-of-type {\n",
       "        vertical-align: middle;\n",
       "    }\n",
       "\n",
       "    .dataframe tbody tr th {\n",
       "        vertical-align: top;\n",
       "    }\n",
       "\n",
       "    .dataframe thead th {\n",
       "        text-align: right;\n",
       "    }\n",
       "</style>\n",
       "<table border=\"1\" class=\"dataframe\">\n",
       "  <thead>\n",
       "    <tr style=\"text-align: right;\">\n",
       "      <th></th>\n",
       "      <th>age</th>\n",
       "      <th>job</th>\n",
       "      <th>marital</th>\n",
       "      <th>education</th>\n",
       "      <th>housing</th>\n",
       "      <th>loan</th>\n",
       "      <th>contact</th>\n",
       "      <th>duration</th>\n",
       "      <th>campaign</th>\n",
       "      <th>pdays</th>\n",
       "      <th>previous</th>\n",
       "      <th>poutcome</th>\n",
       "      <th>emp.var.rate</th>\n",
       "      <th>cons.price.idx</th>\n",
       "      <th>cons.conf.idx</th>\n",
       "      <th>euribor3m</th>\n",
       "      <th>nr.employed</th>\n",
       "      <th>y</th>\n",
       "    </tr>\n",
       "  </thead>\n",
       "  <tbody>\n",
       "    <tr>\n",
       "      <th>0</th>\n",
       "      <td>56</td>\n",
       "      <td>housemaid</td>\n",
       "      <td>married</td>\n",
       "      <td>basic.4y</td>\n",
       "      <td>no</td>\n",
       "      <td>no</td>\n",
       "      <td>telephone</td>\n",
       "      <td>261</td>\n",
       "      <td>1</td>\n",
       "      <td>999</td>\n",
       "      <td>0</td>\n",
       "      <td>nonexistent</td>\n",
       "      <td>1.1</td>\n",
       "      <td>93.994</td>\n",
       "      <td>-36.4</td>\n",
       "      <td>4.857</td>\n",
       "      <td>5191.0</td>\n",
       "      <td>no</td>\n",
       "    </tr>\n",
       "    <tr>\n",
       "      <th>1</th>\n",
       "      <td>57</td>\n",
       "      <td>services</td>\n",
       "      <td>married</td>\n",
       "      <td>high.school</td>\n",
       "      <td>no</td>\n",
       "      <td>no</td>\n",
       "      <td>telephone</td>\n",
       "      <td>149</td>\n",
       "      <td>1</td>\n",
       "      <td>999</td>\n",
       "      <td>0</td>\n",
       "      <td>nonexistent</td>\n",
       "      <td>1.1</td>\n",
       "      <td>93.994</td>\n",
       "      <td>-36.4</td>\n",
       "      <td>4.857</td>\n",
       "      <td>5191.0</td>\n",
       "      <td>no</td>\n",
       "    </tr>\n",
       "    <tr>\n",
       "      <th>2</th>\n",
       "      <td>37</td>\n",
       "      <td>services</td>\n",
       "      <td>married</td>\n",
       "      <td>high.school</td>\n",
       "      <td>yes</td>\n",
       "      <td>no</td>\n",
       "      <td>telephone</td>\n",
       "      <td>226</td>\n",
       "      <td>1</td>\n",
       "      <td>999</td>\n",
       "      <td>0</td>\n",
       "      <td>nonexistent</td>\n",
       "      <td>1.1</td>\n",
       "      <td>93.994</td>\n",
       "      <td>-36.4</td>\n",
       "      <td>4.857</td>\n",
       "      <td>5191.0</td>\n",
       "      <td>no</td>\n",
       "    </tr>\n",
       "    <tr>\n",
       "      <th>3</th>\n",
       "      <td>40</td>\n",
       "      <td>admin.</td>\n",
       "      <td>married</td>\n",
       "      <td>basic.6y</td>\n",
       "      <td>no</td>\n",
       "      <td>no</td>\n",
       "      <td>telephone</td>\n",
       "      <td>151</td>\n",
       "      <td>1</td>\n",
       "      <td>999</td>\n",
       "      <td>0</td>\n",
       "      <td>nonexistent</td>\n",
       "      <td>1.1</td>\n",
       "      <td>93.994</td>\n",
       "      <td>-36.4</td>\n",
       "      <td>4.857</td>\n",
       "      <td>5191.0</td>\n",
       "      <td>no</td>\n",
       "    </tr>\n",
       "    <tr>\n",
       "      <th>4</th>\n",
       "      <td>56</td>\n",
       "      <td>services</td>\n",
       "      <td>married</td>\n",
       "      <td>high.school</td>\n",
       "      <td>no</td>\n",
       "      <td>yes</td>\n",
       "      <td>telephone</td>\n",
       "      <td>307</td>\n",
       "      <td>1</td>\n",
       "      <td>999</td>\n",
       "      <td>0</td>\n",
       "      <td>nonexistent</td>\n",
       "      <td>1.1</td>\n",
       "      <td>93.994</td>\n",
       "      <td>-36.4</td>\n",
       "      <td>4.857</td>\n",
       "      <td>5191.0</td>\n",
       "      <td>no</td>\n",
       "    </tr>\n",
       "  </tbody>\n",
       "</table>\n",
       "</div>"
      ],
      "text/plain": [
       "   age        job  marital    education housing loan    contact  duration  \\\n",
       "0   56  housemaid  married     basic.4y      no   no  telephone       261   \n",
       "1   57   services  married  high.school      no   no  telephone       149   \n",
       "2   37   services  married  high.school     yes   no  telephone       226   \n",
       "3   40     admin.  married     basic.6y      no   no  telephone       151   \n",
       "4   56   services  married  high.school      no  yes  telephone       307   \n",
       "\n",
       "   campaign  pdays  previous     poutcome  emp.var.rate  cons.price.idx  \\\n",
       "0         1    999         0  nonexistent           1.1          93.994   \n",
       "1         1    999         0  nonexistent           1.1          93.994   \n",
       "2         1    999         0  nonexistent           1.1          93.994   \n",
       "3         1    999         0  nonexistent           1.1          93.994   \n",
       "4         1    999         0  nonexistent           1.1          93.994   \n",
       "\n",
       "   cons.conf.idx  euribor3m  nr.employed   y  \n",
       "0          -36.4      4.857       5191.0  no  \n",
       "1          -36.4      4.857       5191.0  no  \n",
       "2          -36.4      4.857       5191.0  no  \n",
       "3          -36.4      4.857       5191.0  no  \n",
       "4          -36.4      4.857       5191.0  no  "
      ]
     },
     "execution_count": 19,
     "metadata": {},
     "output_type": "execute_result"
    }
   ],
   "source": [
    "df.head()"
   ]
  },
  {
   "cell_type": "markdown",
   "id": "8e7baaee",
   "metadata": {},
   "source": [
    "#### Unknown Value"
   ]
  },
  {
   "cell_type": "markdown",
   "id": "68f21fae",
   "metadata": {},
   "source": [
    "Pada data kategorikal, saya tidak mengganti value yang bernilai unknown, karena data tersebut dirasa dapat dianggap sebagai missing value, maka akan difilter."
   ]
  },
  {
   "cell_type": "code",
   "execution_count": 20,
   "id": "92215b1a",
   "metadata": {},
   "outputs": [],
   "source": [
    "df2 = df[(df['marital'] != 'unknown') ]\n",
    "df2 = df2[(df2['housing'] != 'unknown')]\n",
    "df2 = df2[(df2['loan'] != 'unknown')]"
   ]
  },
  {
   "cell_type": "markdown",
   "id": "98c53662",
   "metadata": {},
   "source": [
    "Kemudian kit pastikan apakah datanya sudah benar atau tidak"
   ]
  },
  {
   "cell_type": "code",
   "execution_count": 21,
   "id": "b578b3ea",
   "metadata": {},
   "outputs": [
    {
     "data": {
      "text/plain": [
       "(41188, 18)"
      ]
     },
     "execution_count": 21,
     "metadata": {},
     "output_type": "execute_result"
    }
   ],
   "source": [
    "df.shape"
   ]
  },
  {
   "cell_type": "code",
   "execution_count": 22,
   "id": "a81a8a4e",
   "metadata": {},
   "outputs": [
    {
     "data": {
      "text/plain": [
       "(40119, 18)"
      ]
     },
     "execution_count": 22,
     "metadata": {},
     "output_type": "execute_result"
    }
   ],
   "source": [
    "df2.shape"
   ]
  },
  {
   "cell_type": "markdown",
   "id": "0ac170a4",
   "metadata": {},
   "source": [
    "karena kolom housing merupakan kolom yang merupakanmiliki unknown values, maka kan coba kita visualkan untuk melihat perbandingannya. Dan ternyata sudah tidak ada lagi nilai unknown."
   ]
  },
  {
   "cell_type": "code",
   "execution_count": 23,
   "id": "0ededd20",
   "metadata": {},
   "outputs": [
    {
     "data": {
      "image/png": "[encoded data removed]",
      "text/plain": [
       "<Figure size 1080x432 with 1 Axes>"
      ]
     },
     "metadata": {
      "needs_background": "light"
     },
     "output_type": "display_data"
    }
   ],
   "source": [
    "plt.figure(figsize=(15, 6))\n",
    "# print(column.title())\n",
    "ax = sns.countplot(x = df2['housing'], hue=df2[\"y\"])\n",
    "plt.show()"
   ]
  },
  {
   "cell_type": "markdown",
   "id": "5acfdd9c",
   "metadata": {},
   "source": [
    "### Numerikal"
   ]
  },
  {
   "cell_type": "markdown",
   "id": "16b08480",
   "metadata": {},
   "source": [
    "Selanjutnya kita kana mengolah data yang bersifat numerikal. kita akan melihat terlebih dahulu kolom apa saja yang bernilai numerik."
   ]
  },
  {
   "cell_type": "code",
   "execution_count": 24,
   "id": "e3b50951",
   "metadata": {},
   "outputs": [
    {
     "data": {
      "text/plain": [
       "['age',\n",
       " 'duration',\n",
       " 'campaign',\n",
       " 'pdays',\n",
       " 'previous',\n",
       " 'emp.var.rate',\n",
       " 'cons.price.idx',\n",
       " 'cons.conf.idx',\n",
       " 'euribor3m',\n",
       " 'nr.employed']"
      ]
     },
     "execution_count": 24,
     "metadata": {},
     "output_type": "execute_result"
    }
   ],
   "source": [
    "numerikal"
   ]
  },
  {
   "cell_type": "markdown",
   "id": "919149b0",
   "metadata": {},
   "source": [
    "Selanjutnya kita coba memvisualisasikan bagaimana distribusi datanya menggunakan boxplot."
   ]
  },
  {
   "cell_type": "code",
   "execution_count": 25,
   "id": "4859780b",
   "metadata": {},
   "outputs": [
    {
     "name": "stdout",
     "output_type": "stream",
     "text": [
      "Age\n"
     ]
    },
    {
     "data": {
      "image/png": "[encoded data removed]",
      "text/plain": [
       "<Figure size 432x288 with 1 Axes>"
      ]
     },
     "metadata": {
      "needs_background": "light"
     },
     "output_type": "display_data"
    },
    {
     "name": "stdout",
     "output_type": "stream",
     "text": [
      "Duration\n"
     ]
    },
    {
     "data": {
      "image/png": "[encoded data removed]",
      "text/plain": [
       "<Figure size 432x288 with 1 Axes>"
      ]
     },
     "metadata": {
      "needs_background": "light"
     },
     "output_type": "display_data"
    },
    {
     "name": "stdout",
     "output_type": "stream",
     "text": [
      "Campaign\n"
     ]
    },
    {
     "data": {
      "image/png": "[encoded data removed]",
      "text/plain": [
       "<Figure size 432x288 with 1 Axes>"
      ]
     },
     "metadata": {
      "needs_background": "light"
     },
     "output_type": "display_data"
    },
    {
     "name": "stdout",
     "output_type": "stream",
     "text": [
      "Pdays\n"
     ]
    },
    {
     "data": {
      "image/png": "[encoded data removed]",
      "text/plain": [
       "<Figure size 432x288 with 1 Axes>"
      ]
     },
     "metadata": {
      "needs_background": "light"
     },
     "output_type": "display_data"
    },
    {
     "name": "stdout",
     "output_type": "stream",
     "text": [
      "Previous\n"
     ]
    },
    {
     "data": {
      "image/png": "[encoded data removed]",
      "text/plain": [
       "<Figure size 432x288 with 1 Axes>"
      ]
     },
     "metadata": {
      "needs_background": "light"
     },
     "output_type": "display_data"
    },
    {
     "name": "stdout",
     "output_type": "stream",
     "text": [
      "Emp.Var.Rate\n"
     ]
    },
    {
     "data": {
      "image/png": "[encoded data removed]",
      "text/plain": [
       "<Figure size 432x288 with 1 Axes>"
      ]
     },
     "metadata": {
      "needs_background": "light"
     },
     "output_type": "display_data"
    },
    {
     "name": "stdout",
     "output_type": "stream",
     "text": [
      "Cons.Price.Idx\n"
     ]
    },
    {
     "data": {
      "image/png": "[encoded data removed]",
      "text/plain": [
       "<Figure size 432x288 with 1 Axes>"
      ]
     },
     "metadata": {
      "needs_background": "light"
     },
     "output_type": "display_data"
    },
    {
     "name": "stdout",
     "output_type": "stream",
     "text": [
      "Cons.Conf.Idx\n"
     ]
    },
    {
     "data": {
      "image/png": "[encoded data removed]",
      "text/plain": [
       "<Figure size 432x288 with 1 Axes>"
      ]
     },
     "metadata": {
      "needs_background": "light"
     },
     "output_type": "display_data"
    },
    {
     "name": "stdout",
     "output_type": "stream",
     "text": [
      "Euribor3M\n"
     ]
    },
    {
     "data": {
      "image/png": "[encoded data removed]",
      "text/plain": [
       "<Figure size 432x288 with 1 Axes>"
      ]
     },
     "metadata": {
      "needs_background": "light"
     },
     "output_type": "display_data"
    },
    {
     "name": "stdout",
     "output_type": "stream",
     "text": [
      "Nr.Employed\n"
     ]
    },
    {
     "data": {
      "image/png": "[encoded data removed]",
      "text/plain": [
       "<Figure size 432x288 with 1 Axes>"
      ]
     },
     "metadata": {
      "needs_background": "light"
     },
     "output_type": "display_data"
    }
   ],
   "source": [
    "for num in numerikal:\n",
    "    print(num.title())\n",
    "    sns.boxplot(x = df2[\"y\"], y = df2[num],showmeans=True)\n",
    "    plt.show()"
   ]
  },
  {
   "cell_type": "markdown",
   "id": "ace1f0c9",
   "metadata": {},
   "source": [
    "Beberapa insight yang dapat ditarik dari data numerik adalah sebagai berikut :\n",
    "1. Umur customer baik yang menerima ataupun menolak campaign banyak di range 30- 50 tahun.\n",
    "2. Durasi panggilan jika lebih lama makan berpeluang besar untuk sukses.\n",
    "3. Campaign, semakin sering panggilan dilakukan untuk campaign yang sama pada satu customer, maka akan memperbesar peluang ditolak.\n",
    "4. Terlihat customer yang sudah beberapa  kali di kontak lebih berpeluang menerima tawaran.\n",
    "5. Customer yang pernah dikontak sebelumnya lebih banyak menerima camapign."
   ]
  },
  {
   "cell_type": "markdown",
   "id": "f35aada2",
   "metadata": {},
   "source": [
    "Selanjutnya karena kita ingin mebangun model yang salah satunya memperhatikan hubungan antar fitur, maka kita akna coba melihat korelasi antar fitur. "
   ]
  },
  {
   "cell_type": "code",
   "execution_count": 26,
   "id": "7af71ecd",
   "metadata": {},
   "outputs": [
    {
     "data": {
      "text/html": [
       "<div>\n",
       "<style scoped>\n",
       "    .dataframe tbody tr th:only-of-type {\n",
       "        vertical-align: middle;\n",
       "    }\n",
       "\n",
       "    .dataframe tbody tr th {\n",
       "        vertical-align: top;\n",
       "    }\n",
       "\n",
       "    .dataframe thead th {\n",
       "        text-align: right;\n",
       "    }\n",
       "</style>\n",
       "<table border=\"1\" class=\"dataframe\">\n",
       "  <thead>\n",
       "    <tr style=\"text-align: right;\">\n",
       "      <th></th>\n",
       "      <th>age</th>\n",
       "      <th>duration</th>\n",
       "      <th>campaign</th>\n",
       "      <th>pdays</th>\n",
       "      <th>previous</th>\n",
       "      <th>emp.var.rate</th>\n",
       "      <th>cons.price.idx</th>\n",
       "      <th>cons.conf.idx</th>\n",
       "      <th>euribor3m</th>\n",
       "      <th>nr.employed</th>\n",
       "    </tr>\n",
       "  </thead>\n",
       "  <tbody>\n",
       "    <tr>\n",
       "      <th>age</th>\n",
       "      <td>1.000000</td>\n",
       "      <td>-0.000714</td>\n",
       "      <td>0.004105</td>\n",
       "      <td>-0.035883</td>\n",
       "      <td>0.025526</td>\n",
       "      <td>-0.001407</td>\n",
       "      <td>0.000327</td>\n",
       "      <td>0.129757</td>\n",
       "      <td>0.009745</td>\n",
       "      <td>-0.018924</td>\n",
       "    </tr>\n",
       "    <tr>\n",
       "      <th>duration</th>\n",
       "      <td>-0.000714</td>\n",
       "      <td>1.000000</td>\n",
       "      <td>-0.071441</td>\n",
       "      <td>-0.047528</td>\n",
       "      <td>0.019077</td>\n",
       "      <td>-0.026820</td>\n",
       "      <td>0.006630</td>\n",
       "      <td>-0.008777</td>\n",
       "      <td>-0.031276</td>\n",
       "      <td>-0.043034</td>\n",
       "    </tr>\n",
       "    <tr>\n",
       "      <th>campaign</th>\n",
       "      <td>0.004105</td>\n",
       "      <td>-0.071441</td>\n",
       "      <td>1.000000</td>\n",
       "      <td>0.052311</td>\n",
       "      <td>-0.079523</td>\n",
       "      <td>0.151265</td>\n",
       "      <td>0.128227</td>\n",
       "      <td>-0.014259</td>\n",
       "      <td>0.135574</td>\n",
       "      <td>0.144647</td>\n",
       "    </tr>\n",
       "    <tr>\n",
       "      <th>pdays</th>\n",
       "      <td>-0.035883</td>\n",
       "      <td>-0.047528</td>\n",
       "      <td>0.052311</td>\n",
       "      <td>1.000000</td>\n",
       "      <td>-0.587257</td>\n",
       "      <td>0.271521</td>\n",
       "      <td>0.079867</td>\n",
       "      <td>-0.092330</td>\n",
       "      <td>0.296820</td>\n",
       "      <td>0.371973</td>\n",
       "    </tr>\n",
       "    <tr>\n",
       "      <th>previous</th>\n",
       "      <td>0.025526</td>\n",
       "      <td>0.019077</td>\n",
       "      <td>-0.079523</td>\n",
       "      <td>-0.587257</td>\n",
       "      <td>1.000000</td>\n",
       "      <td>-0.420174</td>\n",
       "      <td>-0.203645</td>\n",
       "      <td>-0.050656</td>\n",
       "      <td>-0.453491</td>\n",
       "      <td>-0.499682</td>\n",
       "    </tr>\n",
       "    <tr>\n",
       "      <th>emp.var.rate</th>\n",
       "      <td>-0.001407</td>\n",
       "      <td>-0.026820</td>\n",
       "      <td>0.151265</td>\n",
       "      <td>0.271521</td>\n",
       "      <td>-0.420174</td>\n",
       "      <td>1.000000</td>\n",
       "      <td>0.774841</td>\n",
       "      <td>0.196982</td>\n",
       "      <td>0.972244</td>\n",
       "      <td>0.907120</td>\n",
       "    </tr>\n",
       "    <tr>\n",
       "      <th>cons.price.idx</th>\n",
       "      <td>0.000327</td>\n",
       "      <td>0.006630</td>\n",
       "      <td>0.128227</td>\n",
       "      <td>0.079867</td>\n",
       "      <td>-0.203645</td>\n",
       "      <td>0.774841</td>\n",
       "      <td>1.000000</td>\n",
       "      <td>0.059535</td>\n",
       "      <td>0.687631</td>\n",
       "      <td>0.521360</td>\n",
       "    </tr>\n",
       "    <tr>\n",
       "      <th>cons.conf.idx</th>\n",
       "      <td>0.129757</td>\n",
       "      <td>-0.008777</td>\n",
       "      <td>-0.014259</td>\n",
       "      <td>-0.092330</td>\n",
       "      <td>-0.050656</td>\n",
       "      <td>0.196982</td>\n",
       "      <td>0.059535</td>\n",
       "      <td>1.000000</td>\n",
       "      <td>0.278484</td>\n",
       "      <td>0.101482</td>\n",
       "    </tr>\n",
       "    <tr>\n",
       "      <th>euribor3m</th>\n",
       "      <td>0.009745</td>\n",
       "      <td>-0.031276</td>\n",
       "      <td>0.135574</td>\n",
       "      <td>0.296820</td>\n",
       "      <td>-0.453491</td>\n",
       "      <td>0.972244</td>\n",
       "      <td>0.687631</td>\n",
       "      <td>0.278484</td>\n",
       "      <td>1.000000</td>\n",
       "      <td>0.945235</td>\n",
       "    </tr>\n",
       "    <tr>\n",
       "      <th>nr.employed</th>\n",
       "      <td>-0.018924</td>\n",
       "      <td>-0.043034</td>\n",
       "      <td>0.144647</td>\n",
       "      <td>0.371973</td>\n",
       "      <td>-0.499682</td>\n",
       "      <td>0.907120</td>\n",
       "      <td>0.521360</td>\n",
       "      <td>0.101482</td>\n",
       "      <td>0.945235</td>\n",
       "      <td>1.000000</td>\n",
       "    </tr>\n",
       "  </tbody>\n",
       "</table>\n",
       "</div>"
      ],
      "text/plain": [
       "                     age  duration  campaign     pdays  previous  \\\n",
       "age             1.000000 -0.000714  0.004105 -0.035883  0.025526   \n",
       "duration       -0.000714  1.000000 -0.071441 -0.047528  0.019077   \n",
       "campaign        0.004105 -0.071441  1.000000  0.052311 -0.079523   \n",
       "pdays          -0.035883 -0.047528  0.052311  1.000000 -0.587257   \n",
       "previous        0.025526  0.019077 -0.079523 -0.587257  1.000000   \n",
       "emp.var.rate   -0.001407 -0.026820  0.151265  0.271521 -0.420174   \n",
       "cons.price.idx  0.000327  0.006630  0.128227  0.079867 -0.203645   \n",
       "cons.conf.idx   0.129757 -0.008777 -0.014259 -0.092330 -0.050656   \n",
       "euribor3m       0.009745 -0.031276  0.135574  0.296820 -0.453491   \n",
       "nr.employed    -0.018924 -0.043034  0.144647  0.371973 -0.499682   \n",
       "\n",
       "                emp.var.rate  cons.price.idx  cons.conf.idx  euribor3m  \\\n",
       "age                -0.001407        0.000327       0.129757   0.009745   \n",
       "duration           -0.026820        0.006630      -0.008777  -0.031276   \n",
       "campaign            0.151265        0.128227      -0.014259   0.135574   \n",
       "pdays               0.271521        0.079867      -0.092330   0.296820   \n",
       "previous           -0.420174       -0.203645      -0.050656  -0.453491   \n",
       "emp.var.rate        1.000000        0.774841       0.196982   0.972244   \n",
       "cons.price.idx      0.774841        1.000000       0.059535   0.687631   \n",
       "cons.conf.idx       0.196982        0.059535       1.000000   0.278484   \n",
       "euribor3m           0.972244        0.687631       0.278484   1.000000   \n",
       "nr.employed         0.907120        0.521360       0.101482   0.945235   \n",
       "\n",
       "                nr.employed  \n",
       "age               -0.018924  \n",
       "duration          -0.043034  \n",
       "campaign           0.144647  \n",
       "pdays              0.371973  \n",
       "previous          -0.499682  \n",
       "emp.var.rate       0.907120  \n",
       "cons.price.idx     0.521360  \n",
       "cons.conf.idx      0.101482  \n",
       "euribor3m          0.945235  \n",
       "nr.employed        1.000000  "
      ]
     },
     "execution_count": 26,
     "metadata": {},
     "output_type": "execute_result"
    }
   ],
   "source": [
    "df2[numerikal].corr()"
   ]
  },
  {
   "cell_type": "markdown",
   "id": "2329160f",
   "metadata": {},
   "source": [
    "Atau jika divisualisasikan maka akakn berbentuk seperti berikut."
   ]
  },
  {
   "cell_type": "code",
   "execution_count": 27,
   "id": "2043cdd6",
   "metadata": {},
   "outputs": [
    {
     "data": {
      "image/png": "[encoded data removed]",
      "text/plain": [
       "<Figure size 864x576 with 2 Axes>"
      ]
     },
     "metadata": {
      "needs_background": "light"
     },
     "output_type": "display_data"
    }
   ],
   "source": [
    "plt.figure(figsize=(12,8))\n",
    "sns.heatmap(df2[numerikal].corr(), cmap=\"Reds\");"
   ]
  },
  {
   "cell_type": "markdown",
   "id": "b65bbac6",
   "metadata": {},
   "source": [
    "Ternyata data nr.employed, dan emp.var.rate memiliki korelasi positif yang cukup besar terhadap masing masing dan paling besar terhadap euribor3m, sehingga kita bisa menghilangkan dua kolom tersebut."
   ]
  },
  {
   "cell_type": "code",
   "execution_count": 28,
   "id": "bef62751",
   "metadata": {},
   "outputs": [],
   "source": [
    "df2.drop(['nr.employed','emp.var.rate'], axis=1, inplace = True)"
   ]
  },
  {
   "cell_type": "code",
   "execution_count": 29,
   "id": "8b46004b",
   "metadata": {},
   "outputs": [
    {
     "data": {
      "text/html": [
       "<div>\n",
       "<style scoped>\n",
       "    .dataframe tbody tr th:only-of-type {\n",
       "        vertical-align: middle;\n",
       "    }\n",
       "\n",
       "    .dataframe tbody tr th {\n",
       "        vertical-align: top;\n",
       "    }\n",
       "\n",
       "    .dataframe thead th {\n",
       "        text-align: right;\n",
       "    }\n",
       "</style>\n",
       "<table border=\"1\" class=\"dataframe\">\n",
       "  <thead>\n",
       "    <tr style=\"text-align: right;\">\n",
       "      <th></th>\n",
       "      <th>age</th>\n",
       "      <th>job</th>\n",
       "      <th>marital</th>\n",
       "      <th>education</th>\n",
       "      <th>housing</th>\n",
       "      <th>loan</th>\n",
       "      <th>contact</th>\n",
       "      <th>duration</th>\n",
       "      <th>campaign</th>\n",
       "      <th>pdays</th>\n",
       "      <th>previous</th>\n",
       "      <th>poutcome</th>\n",
       "      <th>cons.price.idx</th>\n",
       "      <th>cons.conf.idx</th>\n",
       "      <th>euribor3m</th>\n",
       "      <th>y</th>\n",
       "    </tr>\n",
       "  </thead>\n",
       "  <tbody>\n",
       "    <tr>\n",
       "      <th>0</th>\n",
       "      <td>56</td>\n",
       "      <td>housemaid</td>\n",
       "      <td>married</td>\n",
       "      <td>basic.4y</td>\n",
       "      <td>no</td>\n",
       "      <td>no</td>\n",
       "      <td>telephone</td>\n",
       "      <td>261</td>\n",
       "      <td>1</td>\n",
       "      <td>999</td>\n",
       "      <td>0</td>\n",
       "      <td>nonexistent</td>\n",
       "      <td>93.994</td>\n",
       "      <td>-36.4</td>\n",
       "      <td>4.857</td>\n",
       "      <td>no</td>\n",
       "    </tr>\n",
       "    <tr>\n",
       "      <th>1</th>\n",
       "      <td>57</td>\n",
       "      <td>services</td>\n",
       "      <td>married</td>\n",
       "      <td>high.school</td>\n",
       "      <td>no</td>\n",
       "      <td>no</td>\n",
       "      <td>telephone</td>\n",
       "      <td>149</td>\n",
       "      <td>1</td>\n",
       "      <td>999</td>\n",
       "      <td>0</td>\n",
       "      <td>nonexistent</td>\n",
       "      <td>93.994</td>\n",
       "      <td>-36.4</td>\n",
       "      <td>4.857</td>\n",
       "      <td>no</td>\n",
       "    </tr>\n",
       "    <tr>\n",
       "      <th>2</th>\n",
       "      <td>37</td>\n",
       "      <td>services</td>\n",
       "      <td>married</td>\n",
       "      <td>high.school</td>\n",
       "      <td>yes</td>\n",
       "      <td>no</td>\n",
       "      <td>telephone</td>\n",
       "      <td>226</td>\n",
       "      <td>1</td>\n",
       "      <td>999</td>\n",
       "      <td>0</td>\n",
       "      <td>nonexistent</td>\n",
       "      <td>93.994</td>\n",
       "      <td>-36.4</td>\n",
       "      <td>4.857</td>\n",
       "      <td>no</td>\n",
       "    </tr>\n",
       "    <tr>\n",
       "      <th>3</th>\n",
       "      <td>40</td>\n",
       "      <td>admin.</td>\n",
       "      <td>married</td>\n",
       "      <td>basic.6y</td>\n",
       "      <td>no</td>\n",
       "      <td>no</td>\n",
       "      <td>telephone</td>\n",
       "      <td>151</td>\n",
       "      <td>1</td>\n",
       "      <td>999</td>\n",
       "      <td>0</td>\n",
       "      <td>nonexistent</td>\n",
       "      <td>93.994</td>\n",
       "      <td>-36.4</td>\n",
       "      <td>4.857</td>\n",
       "      <td>no</td>\n",
       "    </tr>\n",
       "    <tr>\n",
       "      <th>4</th>\n",
       "      <td>56</td>\n",
       "      <td>services</td>\n",
       "      <td>married</td>\n",
       "      <td>high.school</td>\n",
       "      <td>no</td>\n",
       "      <td>yes</td>\n",
       "      <td>telephone</td>\n",
       "      <td>307</td>\n",
       "      <td>1</td>\n",
       "      <td>999</td>\n",
       "      <td>0</td>\n",
       "      <td>nonexistent</td>\n",
       "      <td>93.994</td>\n",
       "      <td>-36.4</td>\n",
       "      <td>4.857</td>\n",
       "      <td>no</td>\n",
       "    </tr>\n",
       "  </tbody>\n",
       "</table>\n",
       "</div>"
      ],
      "text/plain": [
       "   age        job  marital    education housing loan    contact  duration  \\\n",
       "0   56  housemaid  married     basic.4y      no   no  telephone       261   \n",
       "1   57   services  married  high.school      no   no  telephone       149   \n",
       "2   37   services  married  high.school     yes   no  telephone       226   \n",
       "3   40     admin.  married     basic.6y      no   no  telephone       151   \n",
       "4   56   services  married  high.school      no  yes  telephone       307   \n",
       "\n",
       "   campaign  pdays  previous     poutcome  cons.price.idx  cons.conf.idx  \\\n",
       "0         1    999         0  nonexistent          93.994          -36.4   \n",
       "1         1    999         0  nonexistent          93.994          -36.4   \n",
       "2         1    999         0  nonexistent          93.994          -36.4   \n",
       "3         1    999         0  nonexistent          93.994          -36.4   \n",
       "4         1    999         0  nonexistent          93.994          -36.4   \n",
       "\n",
       "   euribor3m   y  \n",
       "0      4.857  no  \n",
       "1      4.857  no  \n",
       "2      4.857  no  \n",
       "3      4.857  no  \n",
       "4      4.857  no  "
      ]
     },
     "execution_count": 29,
     "metadata": {},
     "output_type": "execute_result"
    }
   ],
   "source": [
    "df2.head()"
   ]
  },
  {
   "cell_type": "markdown",
   "id": "a3983e64",
   "metadata": {},
   "source": [
    "Selanjutnya kita akan update kolom kolom yang termasuk kedalam numerikal"
   ]
  },
  {
   "cell_type": "code",
   "execution_count": 30,
   "id": "9debe9e2",
   "metadata": {},
   "outputs": [],
   "source": [
    "numerikal =[]\n",
    "for col in df2.columns:\n",
    "    if df2[col].dtype != 'object':\n",
    "        numerikal.append(col)"
   ]
  },
  {
   "cell_type": "code",
   "execution_count": 31,
   "id": "4df47aa8",
   "metadata": {},
   "outputs": [
    {
     "data": {
      "text/plain": [
       "['age',\n",
       " 'duration',\n",
       " 'campaign',\n",
       " 'pdays',\n",
       " 'previous',\n",
       " 'cons.price.idx',\n",
       " 'cons.conf.idx',\n",
       " 'euribor3m']"
      ]
     },
     "execution_count": 31,
     "metadata": {},
     "output_type": "execute_result"
    }
   ],
   "source": [
    "numerikal"
   ]
  },
  {
   "cell_type": "markdown",
   "id": "b878c6e9",
   "metadata": {},
   "source": [
    "### Encoding Categorical Value"
   ]
  },
  {
   "cell_type": "markdown",
   "id": "872d179b",
   "metadata": {},
   "source": [
    "Selanjutnya akan dilakukan encoding untuk variabel kategorikal. Untuk encoding sendiri, semua akan dilakukan menggunakan one hot encoding, karena yang dilakukan adalah call untuk marketing sehingga **berbeda** seperti kasus gaji karyawan yang berdasarkah hubungan antara variabel seperti jabatan, edukasi, dll. Hal tersebut tidak berlaku untuk kasus marketing seperti pada data di atas. <br>\n",
    "Khusus Untuk kolom y akan dilakukan encoding berupa 0 untuk tidak dan 1 untuk ya."
   ]
  },
  {
   "cell_type": "code",
   "execution_count": 32,
   "id": "8f40c921",
   "metadata": {},
   "outputs": [],
   "source": [
    "#one hot encoding semua kategorikal\n",
    "df3 = df2.copy()\n",
    "#\n",
    "df3['y'] = df3['y'].replace({'no':0, 'yes':1})\n",
    "df3 = pd.get_dummies(df3)"
   ]
  },
  {
   "cell_type": "markdown",
   "id": "185fdc98",
   "metadata": {},
   "source": [
    "Selanjutnya kita akan memeriksa dataset hasil encoding."
   ]
  },
  {
   "cell_type": "code",
   "execution_count": 33,
   "id": "03208a13",
   "metadata": {},
   "outputs": [
    {
     "data": {
      "text/html": [
       "<div>\n",
       "<style scoped>\n",
       "    .dataframe tbody tr th:only-of-type {\n",
       "        vertical-align: middle;\n",
       "    }\n",
       "\n",
       "    .dataframe tbody tr th {\n",
       "        vertical-align: top;\n",
       "    }\n",
       "\n",
       "    .dataframe thead th {\n",
       "        text-align: right;\n",
       "    }\n",
       "</style>\n",
       "<table border=\"1\" class=\"dataframe\">\n",
       "  <thead>\n",
       "    <tr style=\"text-align: right;\">\n",
       "      <th></th>\n",
       "      <th>age</th>\n",
       "      <th>duration</th>\n",
       "      <th>campaign</th>\n",
       "      <th>pdays</th>\n",
       "      <th>previous</th>\n",
       "      <th>cons.price.idx</th>\n",
       "      <th>cons.conf.idx</th>\n",
       "      <th>euribor3m</th>\n",
       "      <th>y</th>\n",
       "      <th>job_admin.</th>\n",
       "      <th>...</th>\n",
       "      <th>education_unknown</th>\n",
       "      <th>housing_no</th>\n",
       "      <th>housing_yes</th>\n",
       "      <th>loan_no</th>\n",
       "      <th>loan_yes</th>\n",
       "      <th>contact_cellular</th>\n",
       "      <th>contact_telephone</th>\n",
       "      <th>poutcome_failure</th>\n",
       "      <th>poutcome_nonexistent</th>\n",
       "      <th>poutcome_success</th>\n",
       "    </tr>\n",
       "  </thead>\n",
       "  <tbody>\n",
       "    <tr>\n",
       "      <th>0</th>\n",
       "      <td>56</td>\n",
       "      <td>261</td>\n",
       "      <td>1</td>\n",
       "      <td>999</td>\n",
       "      <td>0</td>\n",
       "      <td>93.994</td>\n",
       "      <td>-36.4</td>\n",
       "      <td>4.857</td>\n",
       "      <td>0</td>\n",
       "      <td>0</td>\n",
       "      <td>...</td>\n",
       "      <td>0</td>\n",
       "      <td>1</td>\n",
       "      <td>0</td>\n",
       "      <td>1</td>\n",
       "      <td>0</td>\n",
       "      <td>0</td>\n",
       "      <td>1</td>\n",
       "      <td>0</td>\n",
       "      <td>1</td>\n",
       "      <td>0</td>\n",
       "    </tr>\n",
       "    <tr>\n",
       "      <th>1</th>\n",
       "      <td>57</td>\n",
       "      <td>149</td>\n",
       "      <td>1</td>\n",
       "      <td>999</td>\n",
       "      <td>0</td>\n",
       "      <td>93.994</td>\n",
       "      <td>-36.4</td>\n",
       "      <td>4.857</td>\n",
       "      <td>0</td>\n",
       "      <td>0</td>\n",
       "      <td>...</td>\n",
       "      <td>0</td>\n",
       "      <td>1</td>\n",
       "      <td>0</td>\n",
       "      <td>1</td>\n",
       "      <td>0</td>\n",
       "      <td>0</td>\n",
       "      <td>1</td>\n",
       "      <td>0</td>\n",
       "      <td>1</td>\n",
       "      <td>0</td>\n",
       "    </tr>\n",
       "    <tr>\n",
       "      <th>2</th>\n",
       "      <td>37</td>\n",
       "      <td>226</td>\n",
       "      <td>1</td>\n",
       "      <td>999</td>\n",
       "      <td>0</td>\n",
       "      <td>93.994</td>\n",
       "      <td>-36.4</td>\n",
       "      <td>4.857</td>\n",
       "      <td>0</td>\n",
       "      <td>0</td>\n",
       "      <td>...</td>\n",
       "      <td>0</td>\n",
       "      <td>0</td>\n",
       "      <td>1</td>\n",
       "      <td>1</td>\n",
       "      <td>0</td>\n",
       "      <td>0</td>\n",
       "      <td>1</td>\n",
       "      <td>0</td>\n",
       "      <td>1</td>\n",
       "      <td>0</td>\n",
       "    </tr>\n",
       "    <tr>\n",
       "      <th>3</th>\n",
       "      <td>40</td>\n",
       "      <td>151</td>\n",
       "      <td>1</td>\n",
       "      <td>999</td>\n",
       "      <td>0</td>\n",
       "      <td>93.994</td>\n",
       "      <td>-36.4</td>\n",
       "      <td>4.857</td>\n",
       "      <td>0</td>\n",
       "      <td>1</td>\n",
       "      <td>...</td>\n",
       "      <td>0</td>\n",
       "      <td>1</td>\n",
       "      <td>0</td>\n",
       "      <td>1</td>\n",
       "      <td>0</td>\n",
       "      <td>0</td>\n",
       "      <td>1</td>\n",
       "      <td>0</td>\n",
       "      <td>1</td>\n",
       "      <td>0</td>\n",
       "    </tr>\n",
       "    <tr>\n",
       "      <th>4</th>\n",
       "      <td>56</td>\n",
       "      <td>307</td>\n",
       "      <td>1</td>\n",
       "      <td>999</td>\n",
       "      <td>0</td>\n",
       "      <td>93.994</td>\n",
       "      <td>-36.4</td>\n",
       "      <td>4.857</td>\n",
       "      <td>0</td>\n",
       "      <td>0</td>\n",
       "      <td>...</td>\n",
       "      <td>0</td>\n",
       "      <td>1</td>\n",
       "      <td>0</td>\n",
       "      <td>0</td>\n",
       "      <td>1</td>\n",
       "      <td>0</td>\n",
       "      <td>1</td>\n",
       "      <td>0</td>\n",
       "      <td>1</td>\n",
       "      <td>0</td>\n",
       "    </tr>\n",
       "  </tbody>\n",
       "</table>\n",
       "<p>5 rows × 41 columns</p>\n",
       "</div>"
      ],
      "text/plain": [
       "   age  duration  campaign  pdays  previous  cons.price.idx  cons.conf.idx  \\\n",
       "0   56       261         1    999         0          93.994          -36.4   \n",
       "1   57       149         1    999         0          93.994          -36.4   \n",
       "2   37       226         1    999         0          93.994          -36.4   \n",
       "3   40       151         1    999         0          93.994          -36.4   \n",
       "4   56       307         1    999         0          93.994          -36.4   \n",
       "\n",
       "   euribor3m  y  job_admin.  ...  education_unknown  housing_no  housing_yes  \\\n",
       "0      4.857  0           0  ...                  0           1            0   \n",
       "1      4.857  0           0  ...                  0           1            0   \n",
       "2      4.857  0           0  ...                  0           0            1   \n",
       "3      4.857  0           1  ...                  0           1            0   \n",
       "4      4.857  0           0  ...                  0           1            0   \n",
       "\n",
       "   loan_no  loan_yes  contact_cellular  contact_telephone  poutcome_failure  \\\n",
       "0        1         0                 0                  1                 0   \n",
       "1        1         0                 0                  1                 0   \n",
       "2        1         0                 0                  1                 0   \n",
       "3        1         0                 0                  1                 0   \n",
       "4        0         1                 0                  1                 0   \n",
       "\n",
       "   poutcome_nonexistent  poutcome_success  \n",
       "0                     1                 0  \n",
       "1                     1                 0  \n",
       "2                     1                 0  \n",
       "3                     1                 0  \n",
       "4                     1                 0  \n",
       "\n",
       "[5 rows x 41 columns]"
      ]
     },
     "execution_count": 33,
     "metadata": {},
     "output_type": "execute_result"
    }
   ],
   "source": [
    "df3.head()"
   ]
  },
  {
   "cell_type": "code",
   "execution_count": 34,
   "id": "4f0ca93c",
   "metadata": {},
   "outputs": [
    {
     "data": {
      "text/plain": [
       "(40119, 41)"
      ]
     },
     "execution_count": 34,
     "metadata": {},
     "output_type": "execute_result"
    }
   ],
   "source": [
    "df3.shape"
   ]
  },
  {
   "cell_type": "markdown",
   "id": "d765c184",
   "metadata": {},
   "source": [
    "### Data Preparation for Modelling"
   ]
  },
  {
   "cell_type": "markdown",
   "id": "322c012c",
   "metadata": {},
   "source": [
    "Sebelum melakukan modelling, kita akan terlebih dahulu memberikan tratment untuk data karena seperti diketahui sebelumnya, data yang ada cukup tidak seimbang, karena proporsi kelas yes dan no tidak seimbang, dan hal itu tidak bagus untuk melakukan modelling. Karenanya kita akn coba menyeimbangkan data."
   ]
  },
  {
   "cell_type": "markdown",
   "id": "8a887bc4",
   "metadata": {},
   "source": [
    "Terlebih dahulu kita siapkan data yang sudah dipisahkan antara fitur dan label."
   ]
  },
  {
   "cell_type": "code",
   "execution_count": 35,
   "id": "887c6d2d",
   "metadata": {},
   "outputs": [],
   "source": [
    "df4 = df3.copy()\n",
    "y_df5 = df4.pop('y')\n",
    "df5 = df4"
   ]
  },
  {
   "cell_type": "markdown",
   "id": "39726b92",
   "metadata": {},
   "source": [
    "Kemudian kita periksa terlebih dahulu."
   ]
  },
  {
   "cell_type": "code",
   "execution_count": 36,
   "id": "d0d0356b",
   "metadata": {},
   "outputs": [
    {
     "data": {
      "text/html": [
       "<div>\n",
       "<style scoped>\n",
       "    .dataframe tbody tr th:only-of-type {\n",
       "        vertical-align: middle;\n",
       "    }\n",
       "\n",
       "    .dataframe tbody tr th {\n",
       "        vertical-align: top;\n",
       "    }\n",
       "\n",
       "    .dataframe thead th {\n",
       "        text-align: right;\n",
       "    }\n",
       "</style>\n",
       "<table border=\"1\" class=\"dataframe\">\n",
       "  <thead>\n",
       "    <tr style=\"text-align: right;\">\n",
       "      <th></th>\n",
       "      <th>age</th>\n",
       "      <th>duration</th>\n",
       "      <th>campaign</th>\n",
       "      <th>pdays</th>\n",
       "      <th>previous</th>\n",
       "      <th>cons.price.idx</th>\n",
       "      <th>cons.conf.idx</th>\n",
       "      <th>euribor3m</th>\n",
       "      <th>job_admin.</th>\n",
       "      <th>job_blue-collar</th>\n",
       "      <th>...</th>\n",
       "      <th>education_unknown</th>\n",
       "      <th>housing_no</th>\n",
       "      <th>housing_yes</th>\n",
       "      <th>loan_no</th>\n",
       "      <th>loan_yes</th>\n",
       "      <th>contact_cellular</th>\n",
       "      <th>contact_telephone</th>\n",
       "      <th>poutcome_failure</th>\n",
       "      <th>poutcome_nonexistent</th>\n",
       "      <th>poutcome_success</th>\n",
       "    </tr>\n",
       "  </thead>\n",
       "  <tbody>\n",
       "    <tr>\n",
       "      <th>0</th>\n",
       "      <td>56</td>\n",
       "      <td>261</td>\n",
       "      <td>1</td>\n",
       "      <td>999</td>\n",
       "      <td>0</td>\n",
       "      <td>93.994</td>\n",
       "      <td>-36.4</td>\n",
       "      <td>4.857</td>\n",
       "      <td>0</td>\n",
       "      <td>0</td>\n",
       "      <td>...</td>\n",
       "      <td>0</td>\n",
       "      <td>1</td>\n",
       "      <td>0</td>\n",
       "      <td>1</td>\n",
       "      <td>0</td>\n",
       "      <td>0</td>\n",
       "      <td>1</td>\n",
       "      <td>0</td>\n",
       "      <td>1</td>\n",
       "      <td>0</td>\n",
       "    </tr>\n",
       "    <tr>\n",
       "      <th>1</th>\n",
       "      <td>57</td>\n",
       "      <td>149</td>\n",
       "      <td>1</td>\n",
       "      <td>999</td>\n",
       "      <td>0</td>\n",
       "      <td>93.994</td>\n",
       "      <td>-36.4</td>\n",
       "      <td>4.857</td>\n",
       "      <td>0</td>\n",
       "      <td>0</td>\n",
       "      <td>...</td>\n",
       "      <td>0</td>\n",
       "      <td>1</td>\n",
       "      <td>0</td>\n",
       "      <td>1</td>\n",
       "      <td>0</td>\n",
       "      <td>0</td>\n",
       "      <td>1</td>\n",
       "      <td>0</td>\n",
       "      <td>1</td>\n",
       "      <td>0</td>\n",
       "    </tr>\n",
       "    <tr>\n",
       "      <th>2</th>\n",
       "      <td>37</td>\n",
       "      <td>226</td>\n",
       "      <td>1</td>\n",
       "      <td>999</td>\n",
       "      <td>0</td>\n",
       "      <td>93.994</td>\n",
       "      <td>-36.4</td>\n",
       "      <td>4.857</td>\n",
       "      <td>0</td>\n",
       "      <td>0</td>\n",
       "      <td>...</td>\n",
       "      <td>0</td>\n",
       "      <td>0</td>\n",
       "      <td>1</td>\n",
       "      <td>1</td>\n",
       "      <td>0</td>\n",
       "      <td>0</td>\n",
       "      <td>1</td>\n",
       "      <td>0</td>\n",
       "      <td>1</td>\n",
       "      <td>0</td>\n",
       "    </tr>\n",
       "    <tr>\n",
       "      <th>3</th>\n",
       "      <td>40</td>\n",
       "      <td>151</td>\n",
       "      <td>1</td>\n",
       "      <td>999</td>\n",
       "      <td>0</td>\n",
       "      <td>93.994</td>\n",
       "      <td>-36.4</td>\n",
       "      <td>4.857</td>\n",
       "      <td>1</td>\n",
       "      <td>0</td>\n",
       "      <td>...</td>\n",
       "      <td>0</td>\n",
       "      <td>1</td>\n",
       "      <td>0</td>\n",
       "      <td>1</td>\n",
       "      <td>0</td>\n",
       "      <td>0</td>\n",
       "      <td>1</td>\n",
       "      <td>0</td>\n",
       "      <td>1</td>\n",
       "      <td>0</td>\n",
       "    </tr>\n",
       "    <tr>\n",
       "      <th>4</th>\n",
       "      <td>56</td>\n",
       "      <td>307</td>\n",
       "      <td>1</td>\n",
       "      <td>999</td>\n",
       "      <td>0</td>\n",
       "      <td>93.994</td>\n",
       "      <td>-36.4</td>\n",
       "      <td>4.857</td>\n",
       "      <td>0</td>\n",
       "      <td>0</td>\n",
       "      <td>...</td>\n",
       "      <td>0</td>\n",
       "      <td>1</td>\n",
       "      <td>0</td>\n",
       "      <td>0</td>\n",
       "      <td>1</td>\n",
       "      <td>0</td>\n",
       "      <td>1</td>\n",
       "      <td>0</td>\n",
       "      <td>1</td>\n",
       "      <td>0</td>\n",
       "    </tr>\n",
       "  </tbody>\n",
       "</table>\n",
       "<p>5 rows × 40 columns</p>\n",
       "</div>"
      ],
      "text/plain": [
       "   age  duration  campaign  pdays  previous  cons.price.idx  cons.conf.idx  \\\n",
       "0   56       261         1    999         0          93.994          -36.4   \n",
       "1   57       149         1    999         0          93.994          -36.4   \n",
       "2   37       226         1    999         0          93.994          -36.4   \n",
       "3   40       151         1    999         0          93.994          -36.4   \n",
       "4   56       307         1    999         0          93.994          -36.4   \n",
       "\n",
       "   euribor3m  job_admin.  job_blue-collar  ...  education_unknown  housing_no  \\\n",
       "0      4.857           0                0  ...                  0           1   \n",
       "1      4.857           0                0  ...                  0           1   \n",
       "2      4.857           0                0  ...                  0           0   \n",
       "3      4.857           1                0  ...                  0           1   \n",
       "4      4.857           0                0  ...                  0           1   \n",
       "\n",
       "   housing_yes  loan_no  loan_yes  contact_cellular  contact_telephone  \\\n",
       "0            0        1         0                 0                  1   \n",
       "1            0        1         0                 0                  1   \n",
       "2            1        1         0                 0                  1   \n",
       "3            0        1         0                 0                  1   \n",
       "4            0        0         1                 0                  1   \n",
       "\n",
       "   poutcome_failure  poutcome_nonexistent  poutcome_success  \n",
       "0                 0                     1                 0  \n",
       "1                 0                     1                 0  \n",
       "2                 0                     1                 0  \n",
       "3                 0                     1                 0  \n",
       "4                 0                     1                 0  \n",
       "\n",
       "[5 rows x 40 columns]"
      ]
     },
     "execution_count": 36,
     "metadata": {},
     "output_type": "execute_result"
    }
   ],
   "source": [
    "df5.head()"
   ]
  },
  {
   "cell_type": "markdown",
   "id": "c60e3aeb",
   "metadata": {},
   "source": [
    "Setelah itu kila lakukan oversampling, yaitu menambah jumlah data, agar data yang kita miliki seimbang dan bisa digunakan dengan baik untuk melakukan modelling. Dalam hal ini kita akan menggunakan library imblearn atau imbalance learn."
   ]
  },
  {
   "cell_type": "code",
   "execution_count": 37,
   "id": "b2a943ba",
   "metadata": {},
   "outputs": [],
   "source": [
    "#import library imblearn khususnya object SMOTE\n",
    "from imblearn.over_sampling import SMOTE\n",
    "#melakukan oversampling dengandata yang sudah ada.\n",
    "oversample = SMOTE()\n",
    "df6,y_df6 = oversample.fit_resample(df5,y_df5)"
   ]
  },
  {
   "cell_type": "markdown",
   "id": "3520bd3d",
   "metadata": {},
   "source": [
    "Kemudian data kita kembalikan ke bentuk semula."
   ]
  },
  {
   "cell_type": "code",
   "execution_count": 38,
   "id": "cbbca4da",
   "metadata": {},
   "outputs": [],
   "source": [
    "df6['y'] = y_df6"
   ]
  },
  {
   "cell_type": "markdown",
   "id": "59a6a597",
   "metadata": {},
   "source": [
    "Setelah itu kita periksa bentuk data kita saat ini."
   ]
  },
  {
   "cell_type": "code",
   "execution_count": 39,
   "id": "7ccf1932",
   "metadata": {},
   "outputs": [
    {
     "data": {
      "text/plain": [
       "(71196, 41)"
      ]
     },
     "execution_count": 39,
     "metadata": {},
     "output_type": "execute_result"
    }
   ],
   "source": [
    "df6.shape"
   ]
  },
  {
   "cell_type": "markdown",
   "id": "5af899ca",
   "metadata": {},
   "source": [
    "dan kita coba periksa persebaran data kita berdasarkan labelnya."
   ]
  },
  {
   "cell_type": "code",
   "execution_count": 40,
   "id": "a5e4e03c",
   "metadata": {},
   "outputs": [
    {
     "data": {
      "image/png": "[encoded data removed]",
      "text/plain": [
       "<Figure size 1080x432 with 1 Axes>"
      ]
     },
     "metadata": {
      "needs_background": "light"
     },
     "output_type": "display_data"
    }
   ],
   "source": [
    "plt.figure(figsize=(15, 6))\n",
    "# print(column.title())\n",
    "ax = sns.countplot(df6['y'])\n",
    "plt.show()"
   ]
  },
  {
   "cell_type": "markdown",
   "id": "def22e25",
   "metadata": {},
   "source": [
    "Data yang kita miliki sudah seimbang."
   ]
  },
  {
   "cell_type": "markdown",
   "id": "2c23f8f8",
   "metadata": {},
   "source": [
    "Selanjutnya kita akan melakukan train test split untuk membagi data ke dalam dua jenis data yaitu data test dan data train."
   ]
  },
  {
   "cell_type": "code",
   "execution_count": 41,
   "id": "67169469",
   "metadata": {},
   "outputs": [],
   "source": [
    "from sklearn.model_selection import train_test_split"
   ]
  },
  {
   "cell_type": "markdown",
   "id": "e1559e6f",
   "metadata": {},
   "source": [
    "Untuk pembagian data akan dibagi menjadi 80:20 untuk training dan testing."
   ]
  },
  {
   "cell_type": "code",
   "execution_count": 42,
   "id": "7e73af7e",
   "metadata": {},
   "outputs": [],
   "source": [
    "df_train, df_test = train_test_split(df6, train_size = 0.8, random_state = 100)"
   ]
  },
  {
   "cell_type": "markdown",
   "id": "e0a71c80",
   "metadata": {},
   "source": [
    "Setelah itu, kita akan melakukan scaling data dengan menggunakan teknik standard scaler. untuk melakukannya kita akan menggunakan bantuan instace StandardScaler milik scikit-learn."
   ]
  },
  {
   "cell_type": "code",
   "execution_count": 43,
   "id": "c7f665c6",
   "metadata": {},
   "outputs": [],
   "source": [
    "from sklearn.preprocessing import StandardScaler"
   ]
  },
  {
   "cell_type": "code",
   "execution_count": 44,
   "id": "656e3eb9",
   "metadata": {},
   "outputs": [],
   "source": [
    "scaler = StandardScaler()"
   ]
  },
  {
   "cell_type": "markdown",
   "id": "4d491954",
   "metadata": {},
   "source": [
    "Setelah scaler didefisnisikan, selanjutnya kita akan melakukan fitting data training dan melakukan transform pada data testing."
   ]
  },
  {
   "cell_type": "code",
   "execution_count": 45,
   "id": "a6855e18",
   "metadata": {},
   "outputs": [],
   "source": [
    "df_train[numerikal] = scaler.fit_transform(df_train[numerikal])\n",
    "df_test[numerikal] = scaler.transform(df_test[numerikal])"
   ]
  },
  {
   "cell_type": "markdown",
   "id": "6ee317b8",
   "metadata": {},
   "source": [
    "Langkah selanjutnya adalah memishakan fitur dan label baik pada data training maupun data testing."
   ]
  },
  {
   "cell_type": "code",
   "execution_count": 46,
   "id": "4d32956e",
   "metadata": {},
   "outputs": [],
   "source": [
    "y_train = df_train.pop('y')\n",
    "X_train = df_train"
   ]
  },
  {
   "cell_type": "code",
   "execution_count": 47,
   "id": "c8dc06ae",
   "metadata": {},
   "outputs": [],
   "source": [
    "y_test = df_test.pop('y')\n",
    "X_test = df_test"
   ]
  },
  {
   "cell_type": "code",
   "execution_count": 48,
   "id": "fab8d7a5",
   "metadata": {},
   "outputs": [],
   "source": [
    "# X_train[numerikal] = scaler.fit_transform(X_train[numerikal])"
   ]
  },
  {
   "cell_type": "code",
   "execution_count": 49,
   "id": "cde74020",
   "metadata": {},
   "outputs": [],
   "source": [
    "# X_test[numerikal] = scaler.transform(X_test[numerikal])"
   ]
  },
  {
   "cell_type": "code",
   "execution_count": 50,
   "id": "825bb94f",
   "metadata": {},
   "outputs": [
    {
     "data": {
      "text/plain": [
       "((56956, 40), (56956,), (14240, 40), (14240,))"
      ]
     },
     "execution_count": 50,
     "metadata": {},
     "output_type": "execute_result"
    }
   ],
   "source": [
    "X_train.shape, y_train.shape, X_test.shape, y_test.shape"
   ]
  },
  {
   "cell_type": "markdown",
   "id": "b8270930",
   "metadata": {},
   "source": [
    "### Modelling"
   ]
  },
  {
   "cell_type": "markdown",
   "id": "fcd9b9e7",
   "metadata": {},
   "source": [
    "Pada tahap ini, kita akan mulai membuat model dan melakukan evaluasi terhadap model tersebut dengan cara menilai hasil prediksi dan melakukan hyperparameter tuning jika diperlukan."
   ]
  },
  {
   "cell_type": "markdown",
   "id": "400ddbe8",
   "metadata": {},
   "source": [
    "#### NAIVE BAYES"
   ]
  },
  {
   "cell_type": "markdown",
   "id": "e438ca7c",
   "metadata": {},
   "source": [
    "Karena model ini merupakan model yang cukup sederhana, maka kita tidak akan melakukan hyperparameter tuning pada model ini."
   ]
  },
  {
   "cell_type": "code",
   "execution_count": 51,
   "id": "44e35df4",
   "metadata": {},
   "outputs": [],
   "source": [
    "from sklearn.naive_bayes import GaussianNB\n",
    "\n",
    "\n",
    "modelNB = GaussianNB()\n",
    "\n",
    "\n",
    "modelNB.fit(X_train,y_train)\n",
    "\n",
    "\n",
    "predictedNB= modelNB.predict(X_test) "
   ]
  },
  {
   "cell_type": "markdown",
   "id": "26d9ce74",
   "metadata": {},
   "source": [
    "Berikut adalah hasil classification report dari model tersebut :"
   ]
  },
  {
   "cell_type": "code",
   "execution_count": 52,
   "id": "59bb94d0",
   "metadata": {},
   "outputs": [
    {
     "name": "stdout",
     "output_type": "stream",
     "text": [
      "              precision    recall  f1-score   support\n",
      "\n",
      "           0       0.89      0.84      0.86      7019\n",
      "           1       0.85      0.90      0.87      7221\n",
      "\n",
      "    accuracy                           0.87     14240\n",
      "   macro avg       0.87      0.87      0.87     14240\n",
      "weighted avg       0.87      0.87      0.87     14240\n",
      "\n"
     ]
    }
   ],
   "source": [
    "print(metrics.classification_report(y_test, predictedNB))"
   ]
  },
  {
   "cell_type": "code",
   "execution_count": 53,
   "id": "4a6849df",
   "metadata": {},
   "outputs": [
    {
     "name": "stdout",
     "output_type": "stream",
     "text": [
      "[[5876 1143]\n",
      " [ 741 6480]]\n"
     ]
    }
   ],
   "source": [
    "print(metrics.confusion_matrix(y_test, predictedNB))"
   ]
  },
  {
   "cell_type": "markdown",
   "id": "b9c5803f",
   "metadata": {},
   "source": [
    "#### Logistic Regression"
   ]
  },
  {
   "cell_type": "markdown",
   "id": "293000ae",
   "metadata": {},
   "source": [
    "Untuk logistic regression akan dilakukan hyperparameter tunng dengan bantuan RandomizedSearchCV dengan CV =5 dan parameter yang diuji adalah penalty."
   ]
  },
  {
   "cell_type": "code",
   "execution_count": 54,
   "id": "cd49ac52",
   "metadata": {},
   "outputs": [
    {
     "name": "stdout",
     "output_type": "stream",
     "text": [
      "{'penalty': 'l2'}\n"
     ]
    }
   ],
   "source": [
    "from sklearn.linear_model import LogisticRegression\n",
    "modelLR = LogisticRegression(random_state=0, class_weight='balanced')\n",
    "\n",
    "searchLR = RandomizedSearchCV(modelLR,{'penalty':['l2', 'l1']},cv=5)\n",
    "\n",
    "bestLR = searchLR.fit(X_train,y_train)\n",
    "print(bestLR.best_params_)\n",
    "predictedLR= bestLR.predict(X_test) \n",
    "\n"
   ]
  },
  {
   "cell_type": "markdown",
   "id": "1e22a879",
   "metadata": {},
   "source": [
    "Adapun hasil dari model tersebut adalah sebagi berikut :"
   ]
  },
  {
   "cell_type": "code",
   "execution_count": 55,
   "id": "65bb2eb6",
   "metadata": {},
   "outputs": [
    {
     "name": "stdout",
     "output_type": "stream",
     "text": [
      "              precision    recall  f1-score   support\n",
      "\n",
      "           0       0.93      0.97      0.95      7019\n",
      "           1       0.97      0.92      0.95      7221\n",
      "\n",
      "    accuracy                           0.95     14240\n",
      "   macro avg       0.95      0.95      0.95     14240\n",
      "weighted avg       0.95      0.95      0.95     14240\n",
      "\n"
     ]
    }
   ],
   "source": [
    "print(metrics.classification_report(y_test, predictedLR))"
   ]
  },
  {
   "cell_type": "markdown",
   "id": "b577c620",
   "metadata": {},
   "source": [
    "dengan hasil recall, presisi, dan f1-Score dari algoritma LR."
   ]
  },
  {
   "cell_type": "code",
   "execution_count": 56,
   "id": "dabd26cd",
   "metadata": {},
   "outputs": [
    {
     "name": "stdout",
     "output_type": "stream",
     "text": [
      "[[6826  193]\n",
      " [ 544 6677]]\n"
     ]
    }
   ],
   "source": [
    "print(metrics.confusion_matrix(y_test, predictedLR))"
   ]
  },
  {
   "cell_type": "markdown",
   "id": "6f376160",
   "metadata": {},
   "source": [
    "#### k-NN"
   ]
  },
  {
   "cell_type": "markdown",
   "id": "6a47db11",
   "metadata": {},
   "source": [
    "Untuk k-NN akan dilakukan uji nilai k terbaik. dengan percobaan range k adalah dari 3 hingga 15 dengan mengambil angka ganjil saja. Hal ini dilakukan karena kelas hanya terdiri dari binary class saja."
   ]
  },
  {
   "cell_type": "code",
   "execution_count": 57,
   "id": "71e68b29",
   "metadata": {},
   "outputs": [],
   "source": [
    "from sklearn.neighbors import KNeighborsClassifier\n",
    "resultknn = []\n",
    "k_range = list(range(3, 16,2))\n",
    "for k in k_range:\n",
    "    modelKNN = KNeighborsClassifier(n_neighbors=k)\n",
    "    modelKNN.fit(X_train,y_train)\n",
    "    predictedKNN= modelKNN.predict(X_test)\n",
    "    resultknn.append(metrics.accuracy_score(y_test, predictedKNN))"
   ]
  },
  {
   "cell_type": "markdown",
   "id": "1e97678b",
   "metadata": {},
   "source": [
    "Setelah kita melakukan iterasi terhadap tiap k yang didefinisikan, selanjutnya kita akan mencoba menampilkan grafik akurasinya."
   ]
  },
  {
   "cell_type": "code",
   "execution_count": 58,
   "id": "c19145cc",
   "metadata": {},
   "outputs": [
    {
     "data": {
      "image/png": "[encoded data removed]",
      "text/plain": [
       "<Figure size 432x288 with 1 Axes>"
      ]
     },
     "metadata": {
      "needs_background": "light"
     },
     "output_type": "display_data"
    }
   ],
   "source": [
    "plt.plot(k_range,resultknn)\n",
    "plt.show()\n",
    "best_k = 0\n",
    "for i in range(len(resultknn)):\n",
    "    if resultknn[i] == max(resultknn):\n",
    "        best_k = k_range[i]"
   ]
  },
  {
   "cell_type": "code",
   "execution_count": 59,
   "id": "0b876550",
   "metadata": {},
   "outputs": [
    {
     "name": "stdout",
     "output_type": "stream",
     "text": [
      "Berdasarkan hasil training, terlihat bahwa nilai k terbaik adalah untuk k = 3\n"
     ]
    }
   ],
   "source": [
    "print(\"Berdasarkan hasil training, terlihat bahwa nilai k terbaik adalah untuk k =\", best_k)"
   ]
  },
  {
   "cell_type": "code",
   "execution_count": 60,
   "id": "f57ad82a",
   "metadata": {},
   "outputs": [
    {
     "name": "stdout",
     "output_type": "stream",
     "text": [
      "[[6571  448]\n",
      " [ 356 6865]]\n"
     ]
    }
   ],
   "source": [
    "modelKNN = KNeighborsClassifier(n_neighbors=best_k)\n",
    "modelKNN.fit(X_train,y_train)\n",
    "predictedKNN= modelKNN.predict(X_test)\n",
    "print(metrics.confusion_matrix(y_test, predictedKNN))"
   ]
  },
  {
   "cell_type": "markdown",
   "id": "3a7ebd74",
   "metadata": {},
   "source": [
    "dengan hasil recall, presisi, dan f1-Score dari algoritma k-NN."
   ]
  },
  {
   "cell_type": "code",
   "execution_count": 61,
   "id": "fa1d93cb",
   "metadata": {},
   "outputs": [
    {
     "name": "stdout",
     "output_type": "stream",
     "text": [
      "              precision    recall  f1-score   support\n",
      "\n",
      "           0       0.95      0.94      0.94      7019\n",
      "           1       0.94      0.95      0.94      7221\n",
      "\n",
      "    accuracy                           0.94     14240\n",
      "   macro avg       0.94      0.94      0.94     14240\n",
      "weighted avg       0.94      0.94      0.94     14240\n",
      "\n"
     ]
    }
   ],
   "source": [
    "print(metrics.classification_report(y_test, predictedKNN))"
   ]
  },
  {
   "cell_type": "markdown",
   "id": "e3e8eca5",
   "metadata": {},
   "source": [
    "#### Decision Tree"
   ]
  },
  {
   "cell_type": "markdown",
   "id": "ef36a36d",
   "metadata": {},
   "source": [
    "Untuk Decision Tree akan dilakukan hyperparameter tuning dengan bantuan RandomizedSearchCV dengan CV = 5 dan parameter yang diuji adalah criterion."
   ]
  },
  {
   "cell_type": "code",
   "execution_count": 62,
   "id": "4d4d0e1a",
   "metadata": {},
   "outputs": [
    {
     "name": "stdout",
     "output_type": "stream",
     "text": [
      "{'criterion': 'entropy'}\n"
     ]
    }
   ],
   "source": [
    "from sklearn.tree import DecisionTreeClassifier\n",
    "modelDT = DecisionTreeClassifier(random_state=2)\n",
    "\n",
    "searchDT = RandomizedSearchCV(modelDT,{'criterion':['gini','entropy']},cv=5)\n",
    "\n",
    "bestDT = searchDT.fit(X_train,y_train)\n",
    "print(bestDT.best_params_)\n",
    "predictedDT= bestDT.predict(X_test) "
   ]
  },
  {
   "cell_type": "markdown",
   "id": "ca080fd3",
   "metadata": {},
   "source": [
    "dengan hasil recall, presisi, dan f1-Scoreserta confusion matrix  dari algoritma DT."
   ]
  },
  {
   "cell_type": "code",
   "execution_count": 63,
   "id": "a002bf67",
   "metadata": {},
   "outputs": [
    {
     "name": "stdout",
     "output_type": "stream",
     "text": [
      "              precision    recall  f1-score   support\n",
      "\n",
      "           0       0.94      0.94      0.94      7019\n",
      "           1       0.94      0.94      0.94      7221\n",
      "\n",
      "    accuracy                           0.94     14240\n",
      "   macro avg       0.94      0.94      0.94     14240\n",
      "weighted avg       0.94      0.94      0.94     14240\n",
      "\n"
     ]
    }
   ],
   "source": [
    "print(metrics.classification_report(y_test, predictedDT))"
   ]
  },
  {
   "cell_type": "code",
   "execution_count": 64,
   "id": "17d6ad9d",
   "metadata": {},
   "outputs": [
    {
     "name": "stdout",
     "output_type": "stream",
     "text": [
      "[[6573  446]\n",
      " [ 415 6806]]\n"
     ]
    }
   ],
   "source": [
    "print(metrics.confusion_matrix(y_test, predictedDT))"
   ]
  },
  {
   "cell_type": "markdown",
   "id": "631a24ce",
   "metadata": {},
   "source": [
    "#### Random Forest"
   ]
  },
  {
   "cell_type": "markdown",
   "id": "d421ff21",
   "metadata": {},
   "source": [
    "Untuk Random Forest akan dilakukan hyperparameter tuning dengan bantuan RandomizedSearchCV dengan CV = 5 dan parameter yang diuji adalah criterion."
   ]
  },
  {
   "cell_type": "code",
   "execution_count": 65,
   "id": "ebb7c483",
   "metadata": {},
   "outputs": [
    {
     "name": "stdout",
     "output_type": "stream",
     "text": [
      "{'criterion': 'entropy'}\n"
     ]
    }
   ],
   "source": [
    "from sklearn.ensemble import RandomForestClassifier\n",
    "modelRF=RandomForestClassifier(random_state=2)\n",
    "\n",
    "searchRF = RandomizedSearchCV(modelRF,{'criterion':['gini','entropy']},cv=5)\n",
    "\n",
    "bestRF = searchRF.fit(X_train,y_train)\n",
    "print(bestRF.best_params_)\n",
    "predictedRF= bestRF.predict(X_test) "
   ]
  },
  {
   "cell_type": "markdown",
   "id": "0c4f5edf",
   "metadata": {},
   "source": [
    "dengan hasil recall, presisi, dan f1-Scoreserta confusion matrix dari algoritma RF."
   ]
  },
  {
   "cell_type": "code",
   "execution_count": 66,
   "id": "9312da1a",
   "metadata": {},
   "outputs": [
    {
     "name": "stdout",
     "output_type": "stream",
     "text": [
      "              precision    recall  f1-score   support\n",
      "\n",
      "           0       0.95      0.96      0.95      7019\n",
      "           1       0.96      0.95      0.95      7221\n",
      "\n",
      "    accuracy                           0.95     14240\n",
      "   macro avg       0.95      0.95      0.95     14240\n",
      "weighted avg       0.95      0.95      0.95     14240\n",
      "\n"
     ]
    }
   ],
   "source": [
    "print(metrics.classification_report(y_test, predictedRF))"
   ]
  },
  {
   "cell_type": "code",
   "execution_count": 67,
   "id": "bff62a7f",
   "metadata": {},
   "outputs": [
    {
     "name": "stdout",
     "output_type": "stream",
     "text": [
      "[[6733  286]\n",
      " [ 361 6860]]\n"
     ]
    }
   ],
   "source": [
    "print(metrics.confusion_matrix(y_test, predictedRF))"
   ]
  },
  {
   "cell_type": "markdown",
   "id": "a9e751e6",
   "metadata": {},
   "source": [
    "#### SVM"
   ]
  },
  {
   "cell_type": "markdown",
   "id": "8259aeee",
   "metadata": {},
   "source": [
    "Untuk SVM akan dilakukan hyperparameter tuning dengan bantuan RandomizedSearchCV dengan CV = 5 dan parameter yang diuji adalah kernel"
   ]
  },
  {
   "cell_type": "code",
   "execution_count": 68,
   "id": "c2e96093",
   "metadata": {},
   "outputs": [
    {
     "name": "stdout",
     "output_type": "stream",
     "text": [
      "{'kernel': 'poly'}\n"
     ]
    }
   ],
   "source": [
    "from sklearn import svm \n",
    "\n",
    "\n",
    "modelSVC = svm.SVC(random_state=2) # Linear Kernel\n",
    "searchSVC = RandomizedSearchCV(modelSVC,{'kernel':['linear', 'poly']},cv=5)\n",
    "\n",
    "bestSVC = searchSVC.fit(X_train,y_train)\n",
    "print(bestSVC.best_params_)\n",
    "predictedSVC= bestSVC.predict(X_test) "
   ]
  },
  {
   "cell_type": "markdown",
   "id": "5d013fac",
   "metadata": {},
   "source": [
    "dengan hasil recall, presisi, dan f1-Scoreserta confusion matrix dari algoritma SVM."
   ]
  },
  {
   "cell_type": "code",
   "execution_count": 69,
   "id": "bfdb42a6",
   "metadata": {},
   "outputs": [
    {
     "name": "stdout",
     "output_type": "stream",
     "text": [
      "              precision    recall  f1-score   support\n",
      "\n",
      "           0       0.92      0.97      0.95      7019\n",
      "           1       0.97      0.92      0.95      7221\n",
      "\n",
      "    accuracy                           0.95     14240\n",
      "   macro avg       0.95      0.95      0.95     14240\n",
      "weighted avg       0.95      0.95      0.95     14240\n",
      "\n"
     ]
    }
   ],
   "source": [
    "print(metrics.classification_report(y_test, predictedSVC))"
   ]
  },
  {
   "cell_type": "code",
   "execution_count": 70,
   "id": "254a41eb",
   "metadata": {},
   "outputs": [
    {
     "name": "stdout",
     "output_type": "stream",
     "text": [
      "[[6809  210]\n",
      " [ 554 6667]]\n"
     ]
    }
   ],
   "source": [
    "print(metrics.confusion_matrix(y_test, predictedSVC))"
   ]
  },
  {
   "cell_type": "markdown",
   "id": "e89fe5e3",
   "metadata": {},
   "source": [
    "### Kesimpulan"
   ]
  },
  {
   "cell_type": "markdown",
   "id": "dea9635a",
   "metadata": {},
   "source": [
    "Berdasarkan analisis data dan proses pelatihan model, terdapat beberapa treatment yang dilakukan pada tahap preprocess diantaranya menghilangkan kolom default, month, dan day_of_week karena menurut saya kurang memiliki nilai untuk dimasukkan ke dalam model, faktor lainnya adalah karena data tersebut bersifat data penggilan yang dilakukan oleh pegawai bank shingga hasil data yang dipengaruhi oleh waktu kurang dapat menggambarkan data secara umum. Selain itu data numerikal yang dihilangkan adalah data nr.employeed dan emp.var.rate karena memiliki korelasi yang kuat dengan salah satu kolom. <br>\n",
    "Selain itu dalam pemilihan model, karena tujuan dari pegawai bank adalah agar **dapat menelepon sebanyak mungkin customer dan menghasilkan kesepakatan 'deal'** pada campaign yang sedang dilakukan. Maka metriks evaluasi yang ditekankan adalah precision, dan recall dibanding akurasi. Dan berdasarkan evaluation metric tersebut model yang saya pilih adalah **Random Forest** dengan hasil evaluasi terbaik."
   ]
  }
 ],
 "metadata": {
  "kernelspec": {
   "display_name": "H8_001",
   "language": "python",
   "name": "h8_001"
  },
  "language_info": {
   "codemirror_mode": {
    "name": "ipython",
    "version": 3
   },
   "file_extension": ".py",
   "mimetype": "text/x-python",
   "name": "python",
   "nbconvert_exporter": "python",
   "pygments_lexer": "ipython3",
   "version": "3.8.11"
  }
 },
 "nbformat": 4,
 "nbformat_minor": 5
}
