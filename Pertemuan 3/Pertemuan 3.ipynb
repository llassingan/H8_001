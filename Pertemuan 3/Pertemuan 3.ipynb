{
 "cells": [
  {
   "cell_type": "markdown",
   "id": "9e9528a8",
   "metadata": {},
   "source": [
    "### Function"
   ]
  },
  {
   "cell_type": "code",
   "execution_count": 6,
   "id": "ab0d4f62",
   "metadata": {},
   "outputs": [],
   "source": [
    "def jumlah(a,b):\n",
    "    \"\"\"\n",
    "       Function untuk melakukan penjumlahan\n",
    "       parameters\n",
    "       ----------\n",
    "       a = var 1\n",
    "       b = var 2\n",
    "       \n",
    "       return\n",
    "       ----------\n",
    "       summed value\n",
    "    \"\"\"\n",
    "    print(a+b)"
   ]
  },
  {
   "cell_type": "code",
   "execution_count": 7,
   "id": "b4a7c6c6",
   "metadata": {},
   "outputs": [
    {
     "name": "stdout",
     "output_type": "stream",
     "text": [
      "3\n"
     ]
    }
   ],
   "source": [
    "jumlah(1,2)"
   ]
  },
  {
   "cell_type": "code",
   "execution_count": 8,
   "id": "cee1f5ca",
   "metadata": {},
   "outputs": [],
   "source": [
    "def jumlah2(a: int,b: int) -> int:\n",
    "    \"\"\"\n",
    "       Function untuk melakukan penjumlahan\n",
    "       parameters\n",
    "       ----------\n",
    "       a = var 1\n",
    "       b = var 2\n",
    "       \n",
    "       return\n",
    "       ----------\n",
    "       summed value\n",
    "    \"\"\"\n",
    "    print(a+b)"
   ]
  },
  {
   "cell_type": "code",
   "execution_count": 9,
   "id": "3d930d36",
   "metadata": {},
   "outputs": [
    {
     "name": "stdout",
     "output_type": "stream",
     "text": [
      "3\n"
     ]
    }
   ],
   "source": [
    "jumlah2(1,2)"
   ]
  },
  {
   "cell_type": "code",
   "execution_count": 10,
   "id": "7221cb40",
   "metadata": {},
   "outputs": [
    {
     "name": "stdout",
     "output_type": "stream",
     "text": [
      "12oop\n"
     ]
    }
   ],
   "source": [
    "jumlah2(\"1\",\"2oop\")"
   ]
  },
  {
   "cell_type": "code",
   "execution_count": 11,
   "id": "6572f485",
   "metadata": {},
   "outputs": [],
   "source": [
    "def jumlah3(a: int,b: int) -> int:\n",
    "    \"\"\"\n",
    "       Function untuk melakukan penjumlahan\n",
    "       parameters\n",
    "       ----------\n",
    "       a = var 1\n",
    "       b = var 2\n",
    "       \n",
    "       return\n",
    "       ----------\n",
    "       summed value\n",
    "    \"\"\"\n",
    "    assert type(a) == int\n",
    "    print(a+b)"
   ]
  },
  {
   "cell_type": "code",
   "execution_count": 12,
   "id": "2f5353aa",
   "metadata": {},
   "outputs": [
    {
     "ename": "TypeError",
     "evalue": "unsupported operand type(s) for +: 'int' and 'str'",
     "output_type": "error",
     "traceback": [
      "\u001b[1;31m---------------------------------------------------------------------------\u001b[0m",
      "\u001b[1;31mTypeError\u001b[0m                                 Traceback (most recent call last)",
      "\u001b[1;32m<ipython-input-12-c043246443c9>\u001b[0m in \u001b[0;36m<module>\u001b[1;34m\u001b[0m\n\u001b[1;32m----> 1\u001b[1;33m \u001b[0mjumlah3\u001b[0m\u001b[1;33m(\u001b[0m\u001b[1;36m1\u001b[0m\u001b[1;33m,\u001b[0m\u001b[1;34m\"%e\"\u001b[0m\u001b[1;33m)\u001b[0m\u001b[1;33m\u001b[0m\u001b[1;33m\u001b[0m\u001b[0m\n\u001b[0m",
      "\u001b[1;32m<ipython-input-11-914d15f6e0fd>\u001b[0m in \u001b[0;36mjumlah3\u001b[1;34m(a, b)\u001b[0m\n\u001b[0;32m     12\u001b[0m     \"\"\"\n\u001b[0;32m     13\u001b[0m     \u001b[1;32massert\u001b[0m \u001b[0mtype\u001b[0m\u001b[1;33m(\u001b[0m\u001b[0ma\u001b[0m\u001b[1;33m)\u001b[0m \u001b[1;33m==\u001b[0m \u001b[0mint\u001b[0m\u001b[1;33m\u001b[0m\u001b[1;33m\u001b[0m\u001b[0m\n\u001b[1;32m---> 14\u001b[1;33m     \u001b[0mprint\u001b[0m\u001b[1;33m(\u001b[0m\u001b[0ma\u001b[0m\u001b[1;33m+\u001b[0m\u001b[0mb\u001b[0m\u001b[1;33m)\u001b[0m\u001b[1;33m\u001b[0m\u001b[1;33m\u001b[0m\u001b[0m\n\u001b[0m",
      "\u001b[1;31mTypeError\u001b[0m: unsupported operand type(s) for +: 'int' and 'str'"
     ]
    }
   ],
   "source": [
    "jumlah3(1,\"%e\")"
   ]
  },
  {
   "cell_type": "markdown",
   "id": "6a9f67c0",
   "metadata": {},
   "source": [
    "### Pass by reference "
   ]
  },
  {
   "cell_type": "code",
   "execution_count": 14,
   "id": "2e1ef123",
   "metadata": {
    "scrolled": true
   },
   "outputs": [
    {
     "name": "stdout",
     "output_type": "stream",
     "text": [
      "inside [3, 4, 5, [1, 2, 3]]\n",
      "outside [3, 4, 5, [1, 2, 3]]\n"
     ]
    }
   ],
   "source": [
    "def changeme(mylist):\n",
    "    mylist.append([1,2,3])\n",
    "    print(\"inside\",mylist)\n",
    "\n",
    "mylist= [3,4,5]\n",
    "changeme(mylist)\n",
    "print(\"outside\",mylist)"
   ]
  },
  {
   "cell_type": "code",
   "execution_count": 15,
   "id": "689c0e4e",
   "metadata": {},
   "outputs": [
    {
     "name": "stdout",
     "output_type": "stream",
     "text": [
      "inside [[1, 2, 3]]\n",
      "outside [3, 4, 5]\n"
     ]
    }
   ],
   "source": [
    "# cara ngakalin\n",
    "\n",
    "def changeme(mylist):\n",
    "    #buat variable baru\n",
    "    mylist=[]\n",
    "    mylist.append([1,2,3])\n",
    "    print(\"inside\",mylist)\n",
    "\n",
    "mylist= [3,4,5]\n",
    "changeme(mylist)\n",
    "print(\"outside\",mylist)"
   ]
  },
  {
   "cell_type": "markdown",
   "id": "a24580bc",
   "metadata": {},
   "source": [
    "### Argumen"
   ]
  },
  {
   "cell_type": "code",
   "execution_count": 17,
   "id": "9bb705fc",
   "metadata": {},
   "outputs": [],
   "source": [
    "### 1. Required Argument\n",
    "def printme(str):\n",
    "    print(str)\n",
    "    return"
   ]
  },
  {
   "cell_type": "code",
   "execution_count": 18,
   "id": "76afb0c6",
   "metadata": {},
   "outputs": [
    {
     "name": "stdout",
     "output_type": "stream",
     "text": [
      "admin\n"
     ]
    }
   ],
   "source": [
    "printme(\"admin\")"
   ]
  },
  {
   "cell_type": "code",
   "execution_count": 19,
   "id": "b117029e",
   "metadata": {},
   "outputs": [
    {
     "ename": "TypeError",
     "evalue": "printme() missing 1 required positional argument: 'str'",
     "output_type": "error",
     "traceback": [
      "\u001b[1;31m---------------------------------------------------------------------------\u001b[0m",
      "\u001b[1;31mTypeError\u001b[0m                                 Traceback (most recent call last)",
      "\u001b[1;32m<ipython-input-19-19c689ae8a3e>\u001b[0m in \u001b[0;36m<module>\u001b[1;34m\u001b[0m\n\u001b[1;32m----> 1\u001b[1;33m \u001b[0mprintme\u001b[0m\u001b[1;33m(\u001b[0m\u001b[1;33m)\u001b[0m\u001b[1;33m\u001b[0m\u001b[1;33m\u001b[0m\u001b[0m\n\u001b[0m",
      "\u001b[1;31mTypeError\u001b[0m: printme() missing 1 required positional argument: 'str'"
     ]
    }
   ],
   "source": [
    "printme()"
   ]
  },
  {
   "cell_type": "code",
   "execution_count": 20,
   "id": "c0f77dd9",
   "metadata": {},
   "outputs": [
    {
     "name": "stdout",
     "output_type": "stream",
     "text": [
      "ini argumentnya\n"
     ]
    }
   ],
   "source": [
    "### 2. Keyword Argument\n",
    "printme(str = \"ini argumentnya\")"
   ]
  },
  {
   "cell_type": "code",
   "execution_count": 22,
   "id": "8caf26b5",
   "metadata": {
    "scrolled": true
   },
   "outputs": [
    {
     "name": "stdout",
     "output_type": "stream",
     "text": [
      "Baju: uniqlo, meja : ikea\n"
     ]
    }
   ],
   "source": [
    "def pembelian(baju,meja):\n",
    "    print(f\"Baju: {baju}, meja : {meja}\")\n",
    "pembelian(\"uniqlo\", \"ikea\")"
   ]
  },
  {
   "cell_type": "markdown",
   "id": "386351a4",
   "metadata": {},
   "source": [
    "### Arg, Args, Kwargs"
   ]
  },
  {
   "cell_type": "code",
   "execution_count": 23,
   "id": "d5605c6b",
   "metadata": {},
   "outputs": [
    {
     "name": "stdout",
     "output_type": "stream",
     "text": [
      "arg 10\n",
      "args ('ini', 'sebuah', 'args')\n",
      "akwargs {'ini': 'kwargs', 'okey': 'kawan'}\n"
     ]
    }
   ],
   "source": [
    "def printinfo(arg, *args, **kwargs):\n",
    "    print(\"arg\", arg)\n",
    "    print(\"args\",args)\n",
    "    print(\"akwargs\", kwargs)\n",
    "\n",
    "printinfo(10,\"ini\",\"sebuah\",\"args\",ini=\"kwargs\", okey=\"kawan\")"
   ]
  },
  {
   "cell_type": "code",
   "execution_count": null,
   "id": "c5590ead",
   "metadata": {},
   "outputs": [],
   "source": [
    "## module"
   ]
  },
  {
   "cell_type": "code",
   "execution_count": 24,
   "id": "916368d9",
   "metadata": {},
   "outputs": [
    {
     "name": "stdout",
     "output_type": "stream",
     "text": [
      "Almanik B\n"
     ]
    }
   ],
   "source": [
    "import mod\n",
    "print(mod.s)"
   ]
  },
  {
   "cell_type": "code",
   "execution_count": 25,
   "id": "c41d9137",
   "metadata": {},
   "outputs": [
    {
     "data": {
      "text/plain": [
       "['C:\\\\Users\\\\Octaffia\\\\Hacktiv8\\\\H8_001\\\\Pertemuan 3',\n",
       " 'C:\\\\Users\\\\Octaffia\\\\anaconda3\\\\envs\\\\hacktiv8\\\\python38.zip',\n",
       " 'C:\\\\Users\\\\Octaffia\\\\anaconda3\\\\envs\\\\hacktiv8\\\\DLLs',\n",
       " 'C:\\\\Users\\\\Octaffia\\\\anaconda3\\\\envs\\\\hacktiv8\\\\lib',\n",
       " 'C:\\\\Users\\\\Octaffia\\\\anaconda3\\\\envs\\\\hacktiv8',\n",
       " '',\n",
       " 'C:\\\\Users\\\\Octaffia\\\\anaconda3\\\\envs\\\\hacktiv8\\\\lib\\\\site-packages',\n",
       " 'C:\\\\Users\\\\Octaffia\\\\anaconda3\\\\envs\\\\hacktiv8\\\\lib\\\\site-packages\\\\win32',\n",
       " 'C:\\\\Users\\\\Octaffia\\\\anaconda3\\\\envs\\\\hacktiv8\\\\lib\\\\site-packages\\\\win32\\\\lib',\n",
       " 'C:\\\\Users\\\\Octaffia\\\\anaconda3\\\\envs\\\\hacktiv8\\\\lib\\\\site-packages\\\\Pythonwin',\n",
       " 'C:\\\\Users\\\\Octaffia\\\\anaconda3\\\\envs\\\\hacktiv8\\\\lib\\\\site-packages\\\\IPython\\\\extensions',\n",
       " 'C:\\\\Users\\\\Octaffia\\\\.ipython']"
      ]
     },
     "execution_count": 25,
     "metadata": {},
     "output_type": "execute_result"
    }
   ],
   "source": [
    "import sys\n",
    "sys.path"
   ]
  },
  {
   "cell_type": "code",
   "execution_count": 26,
   "id": "cfd5f0c5",
   "metadata": {},
   "outputs": [
    {
     "name": "stdout",
     "output_type": "stream",
     "text": [
      "# conda environments:\n",
      "#\n",
      "base                     C:\\Users\\Octaffia\\anaconda3\n",
      "hacktiv8              *  C:\\Users\\Octaffia\\anaconda3\\envs\\hacktiv8\n",
      "\n"
     ]
    }
   ],
   "source": [
    "!conda env list"
   ]
  }
 ],
 "metadata": {
  "kernelspec": {
   "display_name": "Python 3",
   "language": "python",
   "name": "python3"
  },
  "language_info": {
   "codemirror_mode": {
    "name": "ipython",
    "version": 3
   },
   "file_extension": ".py",
   "mimetype": "text/x-python",
   "name": "python",
   "nbconvert_exporter": "python",
   "pygments_lexer": "ipython3",
   "version": "3.8.11"
  }
 },
 "nbformat": 4,
 "nbformat_minor": 5
}
